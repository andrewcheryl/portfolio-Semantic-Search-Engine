{
 "cells": [
  {
   "cell_type": "code",
   "execution_count": 1,
   "metadata": {},
   "outputs": [
    {
     "name": "stdout",
     "output_type": "stream",
     "text": [
      "/home/jovyan/dsi_plus/Projects/Project-4-semantic_search\n"
     ]
    }
   ],
   "source": [
    "cd .."
   ]
  },
  {
   "cell_type": "code",
   "execution_count": 2,
   "metadata": {},
   "outputs": [],
   "source": [
    "%run lib/__init__.py\n",
    "%matplotlib inline"
   ]
  },
  {
   "cell_type": "markdown",
   "metadata": {},
   "source": [
    "# Develope text cleaning process for wiki articles"
   ]
  },
  {
   "cell_type": "markdown",
   "metadata": {},
   "source": [
    "## Build function to load a wiki page to test cleaning process"
   ]
  },
  {
   "cell_type": "code",
   "execution_count": 175,
   "metadata": {},
   "outputs": [],
   "source": [
    "def pull_wiki_page(page):\n",
    "    '''\n",
    "    pull page extract and category list for a specified page using \n",
    "    wikipedia API\n",
    "    '''\n",
    "    \n",
    "    #pull page extract\n",
    "    params_p = {\"action\": \"query\",\n",
    "            \"titles\": page,\n",
    "            \"prop\": 'extracts' ,\n",
    "            \"format\": 'json' ,\n",
    "        }\n",
    "            \n",
    "    response_p = requests.get(\"https://en.wikipedia.org/w/api.php\", params = params_p)\n",
    "    data = response_p.json()\n",
    "    \n",
    "    #pull page categories\n",
    "    params_c = {\"action\": \"query\",\n",
    "            \"titles\": page,\n",
    "            \"prop\": 'categories' ,\n",
    "            \"format\": 'json' ,\n",
    "            }\n",
    "            \n",
    "    response_c = requests.get(\"https://en.wikipedia.org/w/api.php\", params = params_c)\n",
    "    cats = response_c.json()\n",
    "            \n",
    "    return data , cats"
   ]
  },
  {
   "cell_type": "markdown",
   "metadata": {},
   "source": [
    "## Set up tools  for cleaning article\n",
    "- use beautiful soup to parse html and extract text \n",
    "- use regular expressions to remove specific parts types of characters and parts of text\n",
    "- use spacy to identify structure and provide lemmatized version of words\n",
    "- use nltk to remove english stop words\n"
   ]
  },
  {
   "cell_type": "code",
   "execution_count": 181,
   "metadata": {},
   "outputs": [],
   "source": [
    "import re \n",
    "from bs4 import BeautifulSoup\n",
    "import spacy\n",
    "import nltk  # natural language toolkit\n",
    "from nltk.corpus import stopwords"
   ]
  },
  {
   "cell_type": "code",
   "execution_count": 177,
   "metadata": {},
   "outputs": [
    {
     "name": "stdout",
     "output_type": "stream",
     "text": [
      "[nltk_data] Downloading package stopwords to /home/jovyan/nltk_data...\n",
      "[nltk_data]   Package stopwords is already up-to-date!\n"
     ]
    }
   ],
   "source": [
    "nlp=spacy.load('en')\n",
    "\n",
    "#download stopwords from nltk\n",
    "nltk.download('stopwords')\n",
    "\n",
    "#create list of english stop words from nltk\n",
    "nltk_stop=stopwords.words('english')\n",
    "#add addtional items to list of stopwords\n",
    "nltk_stop.append('displaystyle')"
   ]
  },
  {
   "cell_type": "code",
   "execution_count": 178,
   "metadata": {},
   "outputs": [],
   "source": [
    "#Have a look at stop words\n",
    "#nltk_stop"
   ]
  },
  {
   "cell_type": "markdown",
   "metadata": {},
   "source": [
    "## First version of cleaner"
   ]
  },
  {
   "cell_type": "code",
   "execution_count": 48,
   "metadata": {},
   "outputs": [],
   "source": [
    "def cleaner(text):\n",
    "    ''' Clean text data, apply spacy lemmatization and nltk stop words'''\n",
    "    text = re.sub('<* />','',text)\n",
    "    text = re.sub('<.*>.*</.*>','', text)\n",
    "    text = re.sub('[\\d]',' ',text)\n",
    "    text = re.sub('{*}',' ',text)\n",
    "    text = re.sub('[\\n]',' ',text)\n",
    "    text = re.sub('[^a-zA-Z ]',' ',text)\n",
    "    text = ' '.join(i.lemma_ for i in nlp(text)\n",
    "                    if i.orth_ not in nltk_stop)\n",
    "    text = ' '.join(text.split())\n",
    "    return text"
   ]
  },
  {
   "cell_type": "code",
   "execution_count": 179,
   "metadata": {},
   "outputs": [],
   "source": [
    "def read_articles( pageid, page):\n",
    "        '''\n",
    "        read page extract and category list from wikipedi \n",
    "        API query and add to page dict\n",
    "        '''\n",
    "        data, cats=pull_wiki_page(page)\n",
    "        \n",
    "        # first data clean - extra from json query and parse html\n",
    "        article=data['query']['pages'][pageid]['extract']\n",
    "        soup = BeautifulSoup(article, 'html.parser')\n",
    "        extract=soup.get_text()\n",
    "        \n",
    "        # 2nd data clean including lemmatization and stop words\n",
    "        \n",
    "        extract_clean=cleaner(extract)\n",
    "\n",
    "        return article , soup, extract , extract_clean "
   ]
  },
  {
   "cell_type": "code",
   "execution_count": 180,
   "metadata": {},
   "outputs": [],
   "source": [
    "article , soup, extract , extract_clean = read_articles('3771060', 'Accuracy paradox')"
   ]
  },
  {
   "cell_type": "markdown",
   "metadata": {},
   "source": [
    "## Review results of extraction and cleaning process"
   ]
  },
  {
   "cell_type": "code",
   "execution_count": 170,
   "metadata": {},
   "outputs": [],
   "source": [
    "#article"
   ]
  },
  {
   "cell_type": "code",
   "execution_count": 171,
   "metadata": {},
   "outputs": [],
   "source": [
    "# cleans up  and structures the ram article html\n",
    "#soup"
   ]
  },
  {
   "cell_type": "code",
   "execution_count": 152,
   "metadata": {},
   "outputs": [
    {
     "data": {
      "text/plain": [
       "'The accuracy paradox for predictive analytics states that predictive models with a given level of accuracy may have greater predictive power than models with higher accuracy. It may be better to avoid the accuracy metric in favor of other metrics such as precision and recall.\\nAccuracy is often the starting point for analyzing the quality of a predictive model, as well as an obvious criterion for prediction. Accuracy measures the ratio of correct predictions to the total number of cases evaluated. It may seem obvious that the ratio of correct predictions to cases should be a key metric. A predictive model may have high accuracy, but be useless.\\nIn an example predictive model for an insurance fraud application, all cases that are predicted as high-risk by the model will be investigated. To evaluate the performance of the model, the insurance company has created a sample data set of 10,000 claims. All 10,000 cases in the validation sample have been carefully checked and it is known which cases are fraudulent. A table of confusion assists analyzing the quality of the model. The definition of accuracy, the table of confusion for model M1Fraud, and the calculation of accuracy for model M1Fraud is shown below.\\n\\n\\n\\n\\n\\nA\\n\\n(\\nM\\n)\\n=\\n\\n\\n\\nT\\nN\\n+\\nT\\nP\\n\\n\\nT\\nN\\n+\\nF\\nP\\n+\\nF\\nN\\n+\\nT\\nP\\n\\n\\n\\n\\n\\n{\\\\displaystyle \\\\mathrm {A} (M)={\\\\frac {TN+TP}{TN+FP+FN+TP}}}\\n where\\nTN is the number of true negative cases\\nFP is the number of false positive cases\\nFN is the number of false negative cases\\nTP is the number of true positive cases\\nFormula 1: Definition of Accuracy\\nTable 1: Table of Confusion for Fraud Model M1Fraud.\\n\\n\\n\\n\\n\\nA\\n\\n(\\nM\\n)\\n=\\n\\n\\n\\n9\\n,\\n700\\n+\\n100\\n\\n\\n9\\n,\\n700\\n+\\n150\\n+\\n50\\n+\\n100\\n\\n\\n\\n=\\n98.0\\n%\\n\\n\\n{\\\\displaystyle \\\\mathrm {A} (M)={\\\\frac {9,700+100}{9,700+150+50+100}}=98.0\\\\%}\\n\\nFormula 2: Accuracy for model M1Fraud\\nWith an accuracy of 98.0% model M1Fraud appears to perform fairly well. The paradox lies in the fact that accuracy can be easily improved to 98.5% by always predicting \"no fraud\". The table of confusion and the accuracy for this trivial “always predict negative” model M2Fraud and the accuracy of this model are shown below.\\nTable 2: Table of Confusion for Fraud Model M2Fraud.\\n\\n\\n\\n\\n\\nA\\n\\n(\\nM\\n)\\n=\\n\\n\\n\\n9\\n,\\n850\\n+\\n0\\n\\n\\n9\\n,\\n850\\n+\\n150\\n+\\n0\\n+\\n0\\n\\n\\n\\n=\\n98.5\\n%\\n\\n\\n{\\\\displaystyle \\\\mathrm {A} (M)={\\\\frac {9,850+0}{9,850+150+0+0}}=98.5\\\\%}\\n\\nFormula 3: Accuracy for model M2Fraud\\nModel M2Fraudreduces the rate of inaccurate predictions from 2% to 1.5%. This is an apparent improvement of 25%. The new model M2Fraud shows fewer incorrect predictions and markedly improved accuracy, as compared to the original model M1Fraud, but is obviously useless.\\nThe alternative model M2Fraud does not offer any value to the company for preventing fraud. The less accurate model is more useful than the more accurate model.\\nCaution is advised when using accuracy in the evaluation of predictive models; it is appropriate only if the cost of a false positive (false alarm) is equal to the cost of a false negative (missed prediction). Otherwise, a more appropriate loss function should be determined.\\nSee also\\nReceiver operating characteristic for other measures of how good model predictions are.\\nReferences\\nGeneral references'"
      ]
     },
     "execution_count": 152,
     "metadata": {},
     "output_type": "execute_result"
    }
   ],
   "source": [
    "#extract text from cleaned html (soup)\n",
    "extract"
   ]
  },
  {
   "cell_type": "code",
   "execution_count": 172,
   "metadata": {},
   "outputs": [
    {
     "data": {
      "text/plain": [
       "516"
      ]
     },
     "metadata": {},
     "output_type": "display_data"
    }
   ],
   "source": [
    "#investigate impact of spacy nlp pipeline\n",
    "dir(doc)\n",
    "l=[]\n",
    "for i in doc:\n",
    "    if i.lemma_ not in nltk_stop:\n",
    "        l.append(i.lemma_)\n",
    "\n",
    "display(len(l))\n",
    "#l[:20]"
   ]
  },
  {
   "cell_type": "code",
   "execution_count": 53,
   "metadata": {},
   "outputs": [
    {
     "data": {
      "text/plain": [
       "The accuracy paradox for predictive analytics states that predictive models with a given level of accuracy may have greater predictive power than models with higher accuracy. It may be better to avoid the accuracy metric in favor of other metrics such as precision and recall.\n",
       "Accuracy is often the starting point for analyzing the quality of a predictive model, as well as an obvious criterion for prediction. Accuracy measures the ratio of correct predictions to the total number of cases evaluated. It may seem obvious that the ratio of correct predictions to cases should be a key metric. A predictive model may have high accuracy, but be useless.\n",
       "In an example predictive model for an insurance fraud application, all cases that are predicted as high-risk by the model will be investigated. To evaluate the performance of the model, the insurance company has created a sample data set of 10,000 claims. All 10,000 cases in the validation sample have been carefully checked and it is known which cases are fraudulent. A table of confusion assists analyzing the quality of the model. The definition of accuracy, the table of confusion for model M1Fraud, and the calculation of accuracy for model M1Fraud is shown below.\n",
       "\n",
       "\n",
       "\n",
       "\n",
       "\n",
       "A\n",
       "\n",
       "(\n",
       "M\n",
       ")\n",
       "=\n",
       "\n",
       "\n",
       "\n",
       "T\n",
       "N\n",
       "+\n",
       "T\n",
       "P\n",
       "\n",
       "\n",
       "T\n",
       "N\n",
       "+\n",
       "F\n",
       "P\n",
       "+\n",
       "F\n",
       "N\n",
       "+\n",
       "T\n",
       "P\n",
       "\n",
       "\n",
       "\n",
       "\n",
       "\n",
       "{\\displaystyle \\mathrm {A} (M)={\\frac {TN+TP}{TN+FP+FN+TP}}}\n",
       " where\n",
       "TN is the number of true negative cases\n",
       "FP is the number of false positive cases\n",
       "FN is the number of false negative cases\n",
       "TP is the number of true positive cases\n",
       "Formula 1: Definition of Accuracy\n",
       "Table 1: Table of Confusion for Fraud Model M1Fraud.\n",
       "\n",
       "\n",
       "\n",
       "\n",
       "\n",
       "A\n",
       "\n",
       "(\n",
       "M\n",
       ")\n",
       "=\n",
       "\n",
       "\n",
       "\n",
       "9\n",
       ",\n",
       "700\n",
       "+\n",
       "100\n",
       "\n",
       "\n",
       "9\n",
       ",\n",
       "700\n",
       "+\n",
       "150\n",
       "+\n",
       "50\n",
       "+\n",
       "100\n",
       "\n",
       "\n",
       "\n",
       "=\n",
       "98.0\n",
       "%\n",
       "\n",
       "\n",
       "{\\displaystyle \\mathrm {A} (M)={\\frac {9,700+100}{9,700+150+50+100}}=98.0\\%}\n",
       "\n",
       "Formula 2: Accuracy for model M1Fraud\n",
       "With an accuracy of 98.0% model M1Fraud appears to perform fairly well. The paradox lies in the fact that accuracy can be easily improved to 98.5% by always predicting \"no fraud\". The table of confusion and the accuracy for this trivial “always predict negative” model M2Fraud and the accuracy of this model are shown below.\n",
       "Table 2: Table of Confusion for Fraud Model M2Fraud.\n",
       "\n",
       "\n",
       "\n",
       "\n",
       "\n",
       "A\n",
       "\n",
       "(\n",
       "M\n",
       ")\n",
       "=\n",
       "\n",
       "\n",
       "\n",
       "9\n",
       ",\n",
       "850\n",
       "+\n",
       "0\n",
       "\n",
       "\n",
       "9\n",
       ",\n",
       "850\n",
       "+\n",
       "150\n",
       "+\n",
       "0\n",
       "+\n",
       "0\n",
       "\n",
       "\n",
       "\n",
       "=\n",
       "98.5\n",
       "%\n",
       "\n",
       "\n",
       "{\\displaystyle \\mathrm {A} (M)={\\frac {9,850+0}{9,850+150+0+0}}=98.5\\%}\n",
       "\n",
       "Formula 3: Accuracy for model M2Fraud\n",
       "Model M2Fraudreduces the rate of inaccurate predictions from 2% to 1.5%. This is an apparent improvement of 25%. The new model M2Fraud shows fewer incorrect predictions and markedly improved accuracy, as compared to the original model M1Fraud, but is obviously useless.\n",
       "The alternative model M2Fraud does not offer any value to the company for preventing fraud. The less accurate model is more useful than the more accurate model.\n",
       "Caution is advised when using accuracy in the evaluation of predictive models; it is appropriate only if the cost of a false positive (false alarm) is equal to the cost of a false negative (missed prediction). Otherwise, a more appropriate loss function should be determined.\n",
       "See also\n",
       "Receiver operating characteristic for other measures of how good model predictions are.\n",
       "References\n",
       "General references"
      ]
     },
     "execution_count": 53,
     "metadata": {},
     "output_type": "execute_result"
    }
   ],
   "source": [
    "nlp(extract)"
   ]
  },
  {
   "cell_type": "code",
   "execution_count": 173,
   "metadata": {},
   "outputs": [
    {
     "data": {
      "text/plain": [
       "2056"
      ]
     },
     "metadata": {},
     "output_type": "display_data"
    },
    {
     "data": {
      "text/plain": [
       "'the accuracy paradox predictive analytic state predictive model give level accuracy may great predictive power model high accuracy -PRON- may well avoid accuracy metric favor metric precision recall accuracy often start point analyze quality predictive model good obvious criterion prediction accuracy measure ratio correct prediction total numb case evaluate -PRON- may seem obvious ratio correct prediction case key metric a predictive model may high accuracy useless in example predictive model insurance fraud application case predict high risk model investigate to evaluate performance model insurance company create sample datum set claim all case validation sample carefully check know case fraudulent a table confusion assist analyze quality model the definition accuracy table confusion model m fraud calculation accuracy model m fraud show a m t n t p t n f p f n t p mathrm a m frac tn tp tn fp fn tp tn numb true negative case fp numb false positive case fn numb false negative case tp numb true positive case formula definition accuracy table table confusion fraud model m fraud a m mathrm a m frac formula accuracy model m fraud with accuracy model m fraud appear perform fairly good the paradox lie fact accuracy easily improve always predict fraud the table confusion accuracy trivial always predict negative model m fraud accuracy model show table table confusion fraud model m fraud a m mathrm a m frac formula accuracy model m fraud model m fraudreduces rate inaccurate prediction this apparent improvement the new model m fraud show few incorrect prediction markedly improve accuracy compare original model m fraud obviously useless the alternative model m fraud offer value company prevent fraud the little accurate model useful accurate model caution advise use accuracy evaluation predictive model appropriate cost false positive false alarm equal cost false negative miss prediction otherwise appropriate loss function determine see conjurer receiver operate characteristic measure good model prediction references general reference'"
      ]
     },
     "execution_count": 173,
     "metadata": {},
     "output_type": "execute_result"
    }
   ],
   "source": [
    "#look at impact of cleaning\n",
    "display(len(extract_clean))\n",
    "extract_clean"
   ]
  },
  {
   "cell_type": "markdown",
   "metadata": {},
   "source": [
    "##  Consider following changes to cleaning...\n",
    " - Remove single charcters as add no information\n",
    " - Remove all items within {}\n",
    " - Remove duplication in removal process\n",
    " - '-PRON-' is appearing as a result of the spacy processing - remove\n"
   ]
  },
  {
   "cell_type": "code",
   "execution_count": 196,
   "metadata": {},
   "outputs": [],
   "source": [
    "def cleaner_v2(text):\n",
    "    ''' Clean text data, apply spacy lemmatization and nltk stop words'''\n",
    "    text = re.sub('{.*}',' ',text)\n",
    "    #text = re.sub('<* />','',text)   # not neeeded as already removed by beautiful soup\n",
    "    #text = re.sub('<.*>.*</.*>','', text) # not neeeded as already removed by beautiful soup\n",
    "    #text = re.sub('[\\d]',' ',text) # not needed as removed by last 3 steps\n",
    "    #text = re.sub('[\\n]',' ',text) # not needed as removed by last 3 steps\n",
    "    text = re.sub('[^a-zA-Z ]',' ',text) # remove numbers and characters not in latin alphabet \n",
    "    text = ' '.join(i.lemma_ for i in nlp(text)\n",
    "                    if i.lemma_ not in nltk_stop)\n",
    "    text = re.sub('-PRON-',' ',text)  # added by spacy lemmatization ?? - remove\n",
    "    text = ' '.join(i for i in text.split() if len(i)!=1)  # remove redundant spaces and individual letters\n",
    "    return text"
   ]
  },
  {
   "cell_type": "code",
   "execution_count": 197,
   "metadata": {},
   "outputs": [
    {
     "name": "stdout",
     "output_type": "stream",
     "text": [
      "1879\n"
     ]
    },
    {
     "data": {
      "text/plain": [
       "'accuracy paradox predictive analytic state predictive model give level accuracy may great predictive power model high accuracy may well avoid accuracy metric favor metric precision recall accuracy often start point analyze quality predictive model good obvious criterion prediction accuracy measure ratio correct prediction total numb case evaluate may seem obvious ratio correct prediction case key metric predictive model may high accuracy useless example predictive model insurance fraud application case predict high risk model investigate evaluate performance model insurance company create sample datum set claim case validation sample carefully check know case fraudulent table confusion assist analyze quality model definition accuracy table confusion model fraud calculation accuracy model fraud show tn numb true negative case fp numb false positive case fn numb false negative case tp numb true positive case formula definition accuracy table table confusion fraud model fraud formula accuracy model fraud accuracy model fraud appear perform fairly good paradox lie fact accuracy easily improve always predict fraud table confusion accuracy trivial always predict negative model fraud accuracy model show table table confusion fraud model fraud formula accuracy model fraud model fraudreduces rate inaccurate prediction apparent improvement new model fraud show incorrect prediction markedly improve accuracy compare original model fraud obviously useless alternative model fraud doe offer value company prevent fraud little accurate model much useful much accurate model caution advise use accuracy evaluation predictive model appropriate cost false positive false alarm equal cost false negative miss prediction otherwise much appropriate loss function determine see conjurer receiver operate characteristic measure good model prediction references general reference'"
      ]
     },
     "execution_count": 197,
     "metadata": {},
     "output_type": "execute_result"
    }
   ],
   "source": [
    "#look at impact of revised cleaner\n",
    "ec=cleaner_v2(extract)\n",
    "print(len(ec))\n",
    "ec"
   ]
  },
  {
   "cell_type": "markdown",
   "metadata": {},
   "source": [
    "## Use version 2 of cleaner to build functions for load process - wiki_api.py"
   ]
  }
 ],
 "metadata": {
  "kernelspec": {
   "display_name": "Python 3",
   "language": "python",
   "name": "python3"
  },
  "language_info": {
   "codemirror_mode": {
    "name": "ipython",
    "version": 3
   },
   "file_extension": ".py",
   "mimetype": "text/x-python",
   "name": "python",
   "nbconvert_exporter": "python",
   "pygments_lexer": "ipython3",
   "version": "3.6.3"
  }
 },
 "nbformat": 4,
 "nbformat_minor": 2
}
