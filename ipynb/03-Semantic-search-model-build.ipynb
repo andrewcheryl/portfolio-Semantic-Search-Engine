{
 "cells": [
  {
   "cell_type": "code",
   "execution_count": 1,
   "metadata": {},
   "outputs": [
    {
     "name": "stdout",
     "output_type": "stream",
     "text": [
      "/home/jovyan/dsi_plus/Projects/Project-4-semantic_search\n"
     ]
    }
   ],
   "source": [
    "cd .."
   ]
  },
  {
   "cell_type": "code",
   "execution_count": 3,
   "metadata": {},
   "outputs": [],
   "source": [
    "%run lib/wiki_api.py"
   ]
  },
  {
   "cell_type": "markdown",
   "metadata": {},
   "source": [
    "### Packages required if run from a standard jupyter/scipy docker container"
   ]
  },
  {
   "cell_type": "code",
   "execution_count": 4,
   "metadata": {},
   "outputs": [],
   "source": [
    "#!pip install --quiet pymongo"
   ]
  },
  {
   "cell_type": "code",
   "execution_count": 5,
   "metadata": {},
   "outputs": [],
   "source": [
    "#!pip install --quiet spacy"
   ]
  },
  {
   "cell_type": "code",
   "execution_count": 6,
   "metadata": {},
   "outputs": [],
   "source": [
    "#!pip install --quiet nltk"
   ]
  },
  {
   "cell_type": "code",
   "execution_count": 7,
   "metadata": {},
   "outputs": [],
   "source": [
    "#!pip install --quiet bs4"
   ]
  },
  {
   "cell_type": "code",
   "execution_count": 10,
   "metadata": {},
   "outputs": [],
   "source": [
    "#!python -m nltk.downloader all"
   ]
  },
  {
   "cell_type": "code",
   "execution_count": 11,
   "metadata": {},
   "outputs": [],
   "source": [
    "#!python -m spacy download en"
   ]
  },
  {
   "cell_type": "markdown",
   "metadata": {},
   "source": [
    "# Project 4 - Semantic Search"
   ]
  },
  {
   "cell_type": "markdown",
   "metadata": {},
   "source": [
    "## Wiki category load  - model build\n",
    "All code sits in wiki_api.py\n",
    "\n",
    "Instantiate class WikiAPI with category name - this will trigger the load process\n",
    "2 levels of nested subcategories are retrieved by default, this can be chaged by amending depth variable"
   ]
  },
  {
   "cell_type": "markdown",
   "metadata": {},
   "source": [
    "### Request Category name"
   ]
  },
  {
   "cell_type": "code",
   "execution_count": 13,
   "metadata": {},
   "outputs": [
    {
     "name": "stdout",
     "output_type": "stream",
     "text": [
      "input Wikipedia category name : Statistics\n"
     ]
    }
   ],
   "source": [
    "cat_name=input('input Wikipedia category name : ')"
   ]
  },
  {
   "cell_type": "markdown",
   "metadata": {},
   "source": [
    "### Load information"
   ]
  },
  {
   "cell_type": "code",
   "execution_count": 14,
   "metadata": {},
   "outputs": [
    {
     "name": "stdout",
     "output_type": "stream",
     "text": [
      "[nltk_data] Downloading package stopwords to /home/jovyan/nltk_data...\n",
      "[nltk_data]   Package stopwords is already up-to-date!\n",
      "\n",
      "no subcategories loaded\n",
      "subcategories added 0, duplicates not loaded 306\n",
      "Unique pages to be added 7824 , approx load time (.5 seconds per page) 6.5e+01mins\n",
      "Continue with load (y / n) ? :n\n",
      "load aborted\n",
      "CPU times: user 8.67 s, sys: 2.89 s, total: 11.6 s\n",
      "Wall time: 1min 27s\n"
     ]
    },
    {
     "data": {
      "text/plain": [
       "<__main__.WikiAPI at 0x7f66afa9bc88>"
      ]
     },
     "execution_count": 14,
     "metadata": {},
     "output_type": "execute_result"
    }
   ],
   "source": [
    "%%time\n",
    "WikiAPI('Category:'+cat_name)"
   ]
  },
  {
   "cell_type": "markdown",
   "metadata": {},
   "source": [
    "## Latent Semantic search - model build\n",
    "All code sits in wiki_api.py\n",
    "\n",
    "Instantiate search engine - run once\n",
    "    - build corpus from pages collection in mongodb\n",
    "    - build document term matrix using Tfidf , keep data in sparse matrix ( too much data to use in df with  limited memory)\n",
    "Run Search - run multiple times\n",
    "    - find dtm for search term using tfidf model already fit\n",
    "    - build svd matrix using TruncatedSVD with 100 components\n",
    "    - identify vector for search term vector from svd matrix\n",
    "    - Use cosine similarity to find most similar vectors in svd matrix\n",
    "    - output top 10 wikipedia pages most relevant to search term"
   ]
  },
  {
   "cell_type": "markdown",
   "metadata": {},
   "source": [
    "### Start search engine "
   ]
  },
  {
   "cell_type": "code",
   "execution_count": 15,
   "metadata": {},
   "outputs": [
    {
     "name": "stdout",
     "output_type": "stream",
     "text": [
      "CPU times: user 3.45 s, sys: 640 ms, total: 4.09 s\n",
      "Wall time: 7.25 s\n"
     ]
    }
   ],
   "source": [
    "%%time\n",
    "mySearch=WikiSearch()"
   ]
  },
  {
   "cell_type": "markdown",
   "metadata": {},
   "source": [
    "### Request input"
   ]
  },
  {
   "cell_type": "code",
   "execution_count": 16,
   "metadata": {},
   "outputs": [
    {
     "name": "stdout",
     "output_type": "stream",
     "text": [
      "input search term : Bagging\n"
     ]
    }
   ],
   "source": [
    "search_term=input('input search term : ')"
   ]
  },
  {
   "cell_type": "markdown",
   "metadata": {},
   "source": [
    "### Run Search"
   ]
  },
  {
   "cell_type": "code",
   "execution_count": 17,
   "metadata": {},
   "outputs": [
    {
     "name": "stdout",
     "output_type": "stream",
     "text": [
      "CPU times: user 8.74 s, sys: 5.59 s, total: 14.3 s\n",
      "Wall time: 6.11 s\n"
     ]
    },
    {
     "data": {
      "text/html": [
       "<div>\n",
       "<table border=\"1\" class=\"dataframe\">\n",
       "  <thead>\n",
       "    <tr style=\"text-align: right;\">\n",
       "      <th></th>\n",
       "      <th>cosine_sim</th>\n",
       "    </tr>\n",
       "  </thead>\n",
       "  <tbody>\n",
       "    <tr>\n",
       "      <th>search_term=Bagging</th>\n",
       "      <td>1.000000</td>\n",
       "    </tr>\n",
       "    <tr>\n",
       "      <th>Bootstrap aggregating</th>\n",
       "      <td>0.737397</td>\n",
       "    </tr>\n",
       "    <tr>\n",
       "      <th>Out-of-bag error</th>\n",
       "      <td>0.726178</td>\n",
       "    </tr>\n",
       "    <tr>\n",
       "      <th>Random subspace method</th>\n",
       "      <td>0.662125</td>\n",
       "    </tr>\n",
       "    <tr>\n",
       "      <th>Training, test, and validation sets</th>\n",
       "      <td>0.587735</td>\n",
       "    </tr>\n",
       "    <tr>\n",
       "      <th>Massive Online Analysis</th>\n",
       "      <td>0.548270</td>\n",
       "    </tr>\n",
       "    <tr>\n",
       "      <th>Cross-validation (statistics)</th>\n",
       "      <td>0.547944</td>\n",
       "    </tr>\n",
       "    <tr>\n",
       "      <th>Margin (machine learning)</th>\n",
       "      <td>0.510740</td>\n",
       "    </tr>\n",
       "    <tr>\n",
       "      <th>Ensemble learning</th>\n",
       "      <td>0.509065</td>\n",
       "    </tr>\n",
       "    <tr>\n",
       "      <th>Multiclass classification</th>\n",
       "      <td>0.500137</td>\n",
       "    </tr>\n",
       "  </tbody>\n",
       "</table>\n",
       "</div>"
      ],
      "text/plain": [
       "                                     cosine_sim\n",
       "search_term=Bagging                    1.000000\n",
       "Bootstrap aggregating                  0.737397\n",
       "Out-of-bag error                       0.726178\n",
       "Random subspace method                 0.662125\n",
       "Training, test, and validation sets    0.587735\n",
       "Massive Online Analysis                0.548270\n",
       "Cross-validation (statistics)          0.547944\n",
       "Margin (machine learning)              0.510740\n",
       "Ensemble learning                      0.509065\n",
       "Multiclass classification              0.500137"
      ]
     },
     "execution_count": 17,
     "metadata": {},
     "output_type": "execute_result"
    }
   ],
   "source": [
    "%%time\n",
    "mySearch.search_myWiki(search_term)"
   ]
  },
  {
   "cell_type": "code",
   "execution_count": null,
   "metadata": {},
   "outputs": [],
   "source": []
  }
 ],
 "metadata": {
  "kernelspec": {
   "display_name": "Python 3",
   "language": "python",
   "name": "python3"
  },
  "language_info": {
   "codemirror_mode": {
    "name": "ipython",
    "version": 3
   },
   "file_extension": ".py",
   "mimetype": "text/x-python",
   "name": "python",
   "nbconvert_exporter": "python",
   "pygments_lexer": "ipython3",
   "version": "3.6.3"
  }
 },
 "nbformat": 4,
 "nbformat_minor": 2
}
