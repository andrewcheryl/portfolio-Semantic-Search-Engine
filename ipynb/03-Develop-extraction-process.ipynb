{
 "cells": [
  {
   "cell_type": "code",
   "execution_count": 1,
   "metadata": {},
   "outputs": [
    {
     "name": "stdout",
     "output_type": "stream",
     "text": [
      "/home/jovyan/dsi_plus/Projects/Project-4-semantic_search\n"
     ]
    }
   ],
   "source": [
    "cd .."
   ]
  },
  {
   "cell_type": "code",
   "execution_count": 2,
   "metadata": {
    "scrolled": true
   },
   "outputs": [],
   "source": [
    "%run lib/__init__.py"
   ]
  },
  {
   "cell_type": "markdown",
   "metadata": {},
   "source": [
    "# Project 4 - Semantic Search\n",
    "\n",
    "## Develop extraction process for data from Wikipedia"
   ]
  },
  {
   "cell_type": "markdown",
   "metadata": {},
   "source": [
    "### Goal: Extract data from specified categories ,  code should be generic so can be pulled for any category on Wikipedia.  Final solution should be a single function in a py file will that can be run by any user.\n",
    "\n",
    "Target categories\n",
    "- https://en.wikipedia.org/wiki/Category:Machine_learning (explore the category structure)\n",
    "- https://www.mediawiki.org/wiki/API:Main_page (start reading the API documentation)\n",
    "\n",
    "For requested category pull...\n",
    "    - All unique subcategories to depth of 2( default setting, can be changed), store in category_collection\n",
    "    - All unique pages for unique subcategories \n",
    "    - For each page retrieve Article extract plus list of categories page belongs to, store in page_collection\n",
    "  "
   ]
  },
  {
   "cell_type": "code",
   "execution_count": 3,
   "metadata": {},
   "outputs": [],
   "source": [
    "#For development process use small category within Machine Learning \n",
    "cat_name='Classification algorithms'"
   ]
  },
  {
   "cell_type": "code",
   "execution_count": 4,
   "metadata": {},
   "outputs": [
    {
     "name": "stdout",
     "output_type": "stream",
     "text": [
      "[nltk_data] Downloading package stopwords to /home/jovyan/nltk_data...\n",
      "[nltk_data]   Package stopwords is already up-to-date!\n"
     ]
    }
   ],
   "source": [
    "wiki=WikiAPI('Category:'+cat_name, run=False)"
   ]
  },
  {
   "cell_type": "markdown",
   "metadata": {},
   "source": [
    "### Extract all unique subcategories from main category\n",
    "( add list to Mongo category_collection )"
   ]
  },
  {
   "cell_type": "code",
   "execution_count": 5,
   "metadata": {},
   "outputs": [
    {
     "name": "stdout",
     "output_type": "stream",
     "text": [
      "CPU times: user 150 ms, sys: 0 ns, total: 150 ms\n",
      "Wall time: 1.68 s\n"
     ]
    }
   ],
   "source": [
    "%%time\n",
    "subcats, subcat_ids =wiki.wiki_cats()"
   ]
  },
  {
   "cell_type": "code",
   "execution_count": 6,
   "metadata": {},
   "outputs": [
    {
     "data": {
      "text/plain": [
       "(5, 5)"
      ]
     },
     "execution_count": 6,
     "metadata": {},
     "output_type": "execute_result"
    }
   ],
   "source": [
    "len(subcats) ,len(subcat_ids) "
   ]
  },
  {
   "cell_type": "code",
   "execution_count": 7,
   "metadata": {},
   "outputs": [
    {
     "data": {
      "text/html": [
       "<div>\n",
       "<table border=\"1\" class=\"dataframe\">\n",
       "  <thead>\n",
       "    <tr style=\"text-align: right;\">\n",
       "      <th></th>\n",
       "      <th>ns</th>\n",
       "      <th>pageid</th>\n",
       "      <th>title</th>\n",
       "    </tr>\n",
       "  </thead>\n",
       "  <tbody>\n",
       "    <tr>\n",
       "      <th>0</th>\n",
       "      <td>14</td>\n",
       "      <td>42936114</td>\n",
       "      <td>Category:Artificial neural networks</td>\n",
       "    </tr>\n",
       "    <tr>\n",
       "      <th>1</th>\n",
       "      <td>14</td>\n",
       "      <td>17594154</td>\n",
       "      <td>Category:Decision trees</td>\n",
       "    </tr>\n",
       "    <tr>\n",
       "      <th>2</th>\n",
       "      <td>14</td>\n",
       "      <td>3985352</td>\n",
       "      <td>Category:Ensemble learning</td>\n",
       "    </tr>\n",
       "  </tbody>\n",
       "</table>\n",
       "</div>"
      ],
      "text/plain": [
       "   ns    pageid                                title\n",
       "0  14  42936114  Category:Artificial neural networks\n",
       "1  14  17594154              Category:Decision trees\n",
       "2  14   3985352           Category:Ensemble learning"
      ]
     },
     "execution_count": 7,
     "metadata": {},
     "output_type": "execute_result"
    }
   ],
   "source": [
    "subcats_df=pd.DataFrame(wiki.subcats)\n",
    "subcats_df.head(3)"
   ]
  },
  {
   "cell_type": "code",
   "execution_count": 8,
   "metadata": {},
   "outputs": [
    {
     "name": "stdout",
     "output_type": "stream",
     "text": [
      "no subcategories loaded\n",
      "subcategories added 0, duplicates not loaded 5\n"
     ]
    }
   ],
   "source": [
    "wiki.write_subcats_to_mongo()"
   ]
  },
  {
   "cell_type": "markdown",
   "metadata": {},
   "source": [
    "### Extract all unique pages for unique subcategories "
   ]
  },
  {
   "cell_type": "code",
   "execution_count": 9,
   "metadata": {},
   "outputs": [
    {
     "name": "stdout",
     "output_type": "stream",
     "text": [
      "Unique pages to be added 255 , approx load time (.5 seconds per page) 2.1mins\n",
      "CPU times: user 130 ms, sys: 0 ns, total: 130 ms\n",
      "Wall time: 1.41 s\n"
     ]
    }
   ],
   "source": [
    "%%time\n",
    "wiki.wiki_pages()"
   ]
  },
  {
   "cell_type": "code",
   "execution_count": 10,
   "metadata": {},
   "outputs": [
    {
     "data": {
      "text/plain": [
       "255"
      ]
     },
     "execution_count": 10,
     "metadata": {},
     "output_type": "execute_result"
    }
   ],
   "source": [
    "len(wiki.pages)"
   ]
  },
  {
   "cell_type": "code",
   "execution_count": 11,
   "metadata": {},
   "outputs": [
    {
     "data": {
      "text/plain": [
       "Category:Artificial neural networks    122\n",
       "Category:Classification algorithms      81\n",
       "Category:Neural network software        20\n",
       "Category:Deep learning                  18\n",
       "Category:Decision trees                  9\n",
       "Name: pull_category, dtype: int64"
      ]
     },
     "execution_count": 11,
     "metadata": {},
     "output_type": "execute_result"
    }
   ],
   "source": [
    "pages_df=pd.DataFrame(wiki.pages)\n",
    "pages_df.pull_category.value_counts().head()"
   ]
  },
  {
   "cell_type": "markdown",
   "metadata": {},
   "source": [
    "### For each page pull article extract and category list for  all unique pages and load to page_collection in mongo db\n",
    "- For development process load to pagetest collection\n",
    "- pageid assigned as primary key - if page already in mongo it will not be loaded\n",
    "- keep track of categories a page belongs to as well as the main category it was pulled from\n"
   ]
  },
  {
   "cell_type": "code",
   "execution_count": 12,
   "metadata": {},
   "outputs": [
    {
     "name": "stdout",
     "output_type": "stream",
     "text": [
      "loading page 1, (1+ε)-approximate nearest neighbor search\n",
      "loading page 2, Calibration (statistics)\n",
      "loading page 3, Soft independent modelling of class analogies\n",
      "loading page 4, Statistical classification\n",
      "loading page 5, Variable kernel density estimation\n",
      "loading page 6, AdaBoost\n",
      "loading page 7, ALOPEX\n",
      "loading page 8, Alternating decision tree\n",
      "loading page 9, Analogical modeling\n",
      "loading page 10, Averaged one-dependence estimators\n",
      "loading page 11, Artificial neural network\n",
      "loading page 12, Types of artificial neural networks\n",
      "loading page 13, Boosting (machine learning)\n",
      "loading page 14, BrownBoost\n",
      "loading page 15, C4.5 algorithm\n",
      "loading page 16, Cascading classifiers\n",
      "loading page 17, Case-based reasoning\n",
      "loading page 18, Chi-square automatic interaction detection\n",
      "loading page 19, Sukhotin's algorithm\n",
      "loading page 20, Classifier chains\n",
      "loading page 21, Co-training\n",
      "loading page 22, CoBoosting\n",
      "loading page 23, Compositional pattern-producing network\n",
      "loading page 24, Conceptual clustering\n",
      "loading page 25, Decision boundary\n",
      "loading page 26, Decision tree learning\n",
      "loading page 27, Deductive classifier\n",
      "loading page 28, Elastic matching\n",
      "loading page 29, Evolving classification function\n",
      "loading page 30, Feature Selection Toolbox\n",
      "loading page 31, Generalization error\n",
      "loading page 32, Gesture Description Language\n",
      "loading page 33, Group method of data handling\n",
      "loading page 34, Hierarchical classifier\n",
      "loading page 35, Hyper basis function network\n",
      "loading page 36, ID3 algorithm\n",
      "loading page 37, IDistance\n",
      "loading page 38, Information fuzzy networks\n",
      "loading page 39, Information gain in decision trees\n",
      "loading page 40, Information gain ratio\n",
      "loading page 41, Jackknife variance estimates for random forest\n",
      "loading page 42, K-nearest neighbors algorithm\n",
      "loading page 43, Kernel method\n",
      "loading page 44, Large margin nearest neighbor\n",
      "loading page 45, Latent class model\n",
      "loading page 46, Learning vector quantization\n",
      "loading page 47, Least squares support vector machine\n",
      "loading page 48, Linear classifier\n",
      "loading page 49, Linear discriminant analysis\n",
      "loading page 50, Locality-sensitive hashing\n",
      "loading page 51, Logic learning machine\n",
      "loading page 52, LogitBoost\n",
      "loading page 53, Margin classifier\n",
      "loading page 54, Margin-infused relaxed algorithm\n",
      "loading page 55, Multi-label classification\n",
      "loading page 56, Multiclass classification\n",
      "loading page 57, Multifactor dimensionality reduction\n",
      "loading page 58, Multilayer perceptron\n",
      "loading page 59, Multinomial logistic regression\n",
      "loading page 60, Multiple discriminant analysis\n",
      "loading page 61, Multispectral pattern recognition\n",
      "loading page 62, Naive Bayes classifier\n",
      "loading page 63, Nearest centroid classifier\n",
      "loading page 64, Nearest neighbor search\n",
      "loading page 65, Novelty detection\n",
      "loading page 66, One-class classification\n",
      "loading page 67, Optimal discriminant analysis\n",
      "loading page 68, Perceptron\n",
      "loading page 69, Probabilistic latent semantic analysis\n",
      "loading page 70, Probit model\n",
      "loading page 71, Quadratic classifier\n",
      "loading page 72, Radial basis function network\n",
      "loading page 73, Random forest\n",
      "loading page 74, Random subspace method\n",
      "loading page 75, Relevance vector machine\n",
      "loading page 76, Rules extraction system family\n",
      "loading page 77, Support vector machine\n",
      "loading page 78, Syntactic pattern recognition\n",
      "loading page 79, Textual case-based reasoning\n",
      "loading page 80, Whitening transformation\n",
      "loading page 81, Winnow (algorithm)\n",
      "loading page 82, Activation function\n",
      "loading page 83, ADALINE\n",
      "loading page 84, Adaptive neuro fuzzy inference system\n",
      "loading page 85, Adaptive resonance theory\n",
      "loading page 86, Artificial Intelligence System\n",
      "loading page 87, Artificial neuron\n",
      "loading page 88, Artisto\n",
      "loading page 89, Autoassociative memory\n",
      "loading page 90, Autoencoder\n",
      "loading page 91, Backpropagation\n",
      "loading page 92, Backpropagation through time\n",
      "loading page 93, Bcpnn\n",
      "loading page 94, Bidirectional associative memory\n",
      "loading page 95, Bidirectional recurrent neural networks\n",
      "loading page 96, BigDL\n",
      "loading page 97, Boltzmann machine\n",
      "loading page 98, Caffe (software)\n",
      "loading page 99, Catastrophic interference\n",
      "loading page 100, Cellular neural network\n",
      "loading page 101, Cerebellar model articulation controller\n",
      "loading page 102, CoDi\n",
      "loading page 103, Committee machine\n",
      "loading page 104, Competitive learning\n",
      "loading page 105, Computational cybernetics\n",
      "loading page 106, Computational neurogenetic modeling\n",
      "loading page 107, Connectionist temporal classification\n",
      "loading page 108, Convolutional Deep Belief Networks\n",
      "loading page 109, Convolutional neural network\n",
      "loading page 110, Cover's theorem\n",
      "loading page 111, Deep belief network\n",
      "loading page 112, Deep lambertian networks\n",
      "loading page 113, Deep learning\n",
      "loading page 114, Deeplearning4j\n",
      "loading page 115, Dehaene–Changeux model\n",
      "loading page 116, Delta rule\n",
      "loading page 117, Dropout (neural networks)\n",
      "loading page 118, Early stopping\n",
      "loading page 119, Echo state network\n",
      "loading page 120, Electricity price forecasting\n",
      "loading page 121, The Emotion Machine\n",
      "loading page 122, European Neural Network Society\n",
      "loading page 123, Evolutionary acquisition of neural topologies\n",
      "loading page 124, Extension neural network\n",
      "loading page 125, Feed forward (control)\n",
      "loading page 126, Feedforward neural network\n",
      "loading page 127, FindFace\n",
      "loading page 128, General regression neural network\n",
      "loading page 129, Generalized Hebbian Algorithm\n",
      "loading page 130, Generative topographic map\n",
      "loading page 131, Grossberg network\n",
      "loading page 132, Growing self-organizing map\n",
      "loading page 133, Hard sigmoid\n",
      "loading page 134, Helmholtz machine\n",
      "loading page 135, Hierarchical temporal memory\n",
      "loading page 136, Hopfield network\n",
      "loading page 137, Hybrid Kohonen self-organizing map\n",
      "loading page 138, Hybrid neural network\n",
      "loading page 139, HyperNEAT\n",
      "loading page 140, Infomax\n",
      "loading page 141, Instantaneously trained neural networks\n",
      "loading page 142, Interactive activation and competition networks\n",
      "loading page 143, IPO underpricing algorithm\n",
      "loading page 144, Jpred\n",
      "loading page 145, Leabra\n",
      "loading page 146, Learning rule\n",
      "loading page 147, Lernmatrix\n",
      "loading page 148, Linde–Buzo–Gray algorithm\n",
      "loading page 149, Liquid state machine\n",
      "loading page 150, Long short-term memory\n",
      "loading page 151, Modular neural network\n",
      "loading page 152, MoneyBee\n",
      "loading page 153, Multimodal learning\n",
      "loading page 154, ND4J (software)\n",
      "loading page 155, ND4S\n",
      "loading page 156, Neocognitron\n",
      "loading page 157, Nervous system network models\n",
      "loading page 158, NETtalk (artificial neural network)\n",
      "loading page 159, Neural backpropagation\n",
      "loading page 160, Neural cryptography\n",
      "loading page 161, Neural gas\n",
      "loading page 162, Neural network software\n",
      "loading page 163, Neural network synchronization protocol\n",
      "loading page 164, Neural Networks (journal)\n",
      "loading page 165, Neuroevolution of augmenting topologies\n",
      "loading page 166, Ni1000\n",
      "loading page 167, Oja's rule\n",
      "loading page 168, OpenNN\n",
      "loading page 169, Optical neural network\n",
      "loading page 170, Physical neural network\n",
      "loading page 171, Probabilistic neural network\n",
      "loading page 172, Promoter based genetic algorithm\n",
      "loading page 173, Pulse-coupled networks\n",
      "loading page 174, Quantum neural network\n",
      "loading page 175, Quickprop\n",
      "loading page 176, Radial basis function\n",
      "loading page 177, Random neural network\n",
      "loading page 178, Rectifier (neural networks)\n",
      "loading page 179, Recurrent neural network\n",
      "loading page 180, Recursive neural network\n",
      "loading page 181, Relation network\n",
      "loading page 182, Reservoir computing\n",
      "loading page 183, Residual neural network\n",
      "loading page 184, Restricted Boltzmann machine\n",
      "loading page 185, Rprop\n",
      "loading page 186, Self-organizing map\n",
      "loading page 187, Semantic neural network\n",
      "loading page 188, Sigmoid function\n",
      "loading page 189, Softmax function\n",
      "loading page 190, Spiking neural network\n",
      "loading page 191, Stochastic neural analog reinforcement calculator\n",
      "loading page 192, Stochastic neural network\n",
      "loading page 193, Synaptic transistor\n",
      "loading page 194, Synaptic weight\n",
      "loading page 195, Tensor product network\n",
      "loading page 196, Time delay neural network\n",
      "loading page 197, U-matrix\n",
      "loading page 198, Universal approximation theorem\n",
      "loading page 199, Vanishing gradient problem\n",
      "loading page 200, WaveNet\n",
      "loading page 201, Winner-take-all (computing)\n"
     ]
    },
    {
     "name": "stdout",
     "output_type": "stream",
     "text": [
      "loading page 202, Word embedding\n",
      "loading page 203, Word2vec\n",
      "loading page 204, Decision tree\n",
      "loading page 205, Decision stump\n",
      "loading page 206, Decision tree model\n",
      "loading page 207, Fast-and-frugal trees\n",
      "loading page 208, Gradient boosting\n",
      "loading page 209, Grafting (decision trees)\n",
      "loading page 210, Incremental decision tree\n",
      "loading page 211, Logistic model tree\n",
      "loading page 212, Pruning (decision trees)\n",
      "loading page 213, Ensemble learning\n",
      "loading page 214, Bootstrap aggregating\n",
      "loading page 215, Gaussian process emulator\n",
      "loading page 216, LPBoost\n",
      "loading page 217, Out-of-bag error\n",
      "loading page 218, AIVA\n",
      "loading page 219, AlexNet\n",
      "loading page 220, Apache SINGA\n",
      "loading page 221, Comparison of deep learning software\n",
      "loading page 222, Deep Image Prior\n",
      "loading page 223, Deep Instinct\n",
      "loading page 224, DeepMind\n",
      "loading page 225, Keras\n",
      "loading page 226, Microsoft Cognitive Toolkit\n",
      "loading page 227, Msg.ai\n",
      "loading page 228, MXNet\n",
      "loading page 229, Neural Designer\n",
      "loading page 230, Numenta\n",
      "loading page 231, PyTorch\n",
      "loading page 232, Qloo\n",
      "loading page 233, TensorFlow\n",
      "loading page 234, Theano (software)\n",
      "loading page 235, Torch (machine learning)\n",
      "loading page 236, Aika (software)\n",
      "loading page 237, DeepArt\n",
      "loading page 238, DeepDream\n",
      "loading page 239, EDLUT\n",
      "loading page 240, Emergent (software)\n",
      "loading page 241, Encog\n",
      "loading page 242, JOONE\n",
      "loading page 243, Let's Enhance\n",
      "loading page 244, Neural Engineering Object\n",
      "loading page 245, Neural Lab\n",
      "loading page 246, Neuro Laboratory\n",
      "loading page 247, Neuroph\n",
      "loading page 248, NeuroSolutions\n",
      "loading page 249, OCRopus\n",
      "loading page 250, Peltarion Synapse\n",
      "loading page 251, Picas (app)\n",
      "loading page 252, Prisma (app)\n",
      "loading page 253, PSIPRED\n",
      "loading page 254, SNNS\n",
      "loading page 255, Wolfram Language\n",
      "pages added 255, duplicates droped 0\n",
      "CPU times: user 1min 9s, sys: 1min 47s, total: 2min 56s\n",
      "Wall time: 3min 13s\n"
     ]
    }
   ],
   "source": [
    "%%time\n",
    "wiki.load_articles_test()"
   ]
  },
  {
   "cell_type": "markdown",
   "metadata": {},
   "source": [
    "## Check pages loaded to MongoDB"
   ]
  },
  {
   "cell_type": "code",
   "execution_count": 13,
   "metadata": {},
   "outputs": [],
   "source": [
    "import pymongo\n",
    "IP='52.42.152.84'\n",
    "client = pymongo.MongoClient(IP, 27016)\n",
    "myWiki_dbr=client.myWiki"
   ]
  },
  {
   "cell_type": "code",
   "execution_count": 16,
   "metadata": {},
   "outputs": [
    {
     "data": {
      "text/plain": [
       "[{'_id': ObjectId('5a6a16d7cd7a8900a1f8496a'),\n",
       "  'loaded': 'Thu Jan 25 17:41:43 2018',\n",
       "  'master_cat': 'Category:Classification algorithms',\n",
       "  'pages_added': 255}]"
      ]
     },
     "execution_count": 16,
     "metadata": {},
     "output_type": "execute_result"
    }
   ],
   "source": [
    "pagetestload_cllr=myWiki_dbr.pagetestload_collection\n",
    "cursor=pagetestload_cllr.find()\n",
    "docs=list(cursor)\n",
    "docs"
   ]
  },
  {
   "cell_type": "code",
   "execution_count": 14,
   "metadata": {},
   "outputs": [
    {
     "data": {
      "text/plain": [
       "255"
      ]
     },
     "metadata": {},
     "output_type": "display_data"
    },
    {
     "data": {
      "text/plain": [
       "{'_id': 32003319,\n",
       " 'category_list': ['Category:Algorithms and data structures stubs',\n",
       "  'Category:All stub articles',\n",
       "  'Category:Approximation algorithms',\n",
       "  'Category:Classification algorithms',\n",
       "  'Category:Computer science stubs',\n",
       "  'Category:Search algorithms'],\n",
       " 'extract': 'approximate near neighbor search special case near neighbor search problem solution approximate near neighbor search point multiple point within distance query point distance query point true near neighbor reasons approximate near neighbor search include space time cost exact solution high dimensional space see curse dimensionality domain find approximate near neighbor acceptable solution approaches solve approximate near neighbor search include kd tree locality sensitive hashing brute force search reference',\n",
       " 'ns': 0,\n",
       " 'pageid': 32003319,\n",
       " 'pull_category': 'Category:Classification algorithms',\n",
       " 'title': '(1+ε)-approximate nearest neighbor search'}"
      ]
     },
     "execution_count": 14,
     "metadata": {},
     "output_type": "execute_result"
    }
   ],
   "source": [
    "pagetest_cllr=myWiki_dbr.pagetest_collection\n",
    "cursor=pagetest_cllr.find()\n",
    "docs=list(cursor)\n",
    "display(len(docs))\n",
    "docs[0]"
   ]
  },
  {
   "cell_type": "code",
   "execution_count": 15,
   "metadata": {},
   "outputs": [
    {
     "data": {
      "text/plain": [
       "{'_id': 740955,\n",
       " 'category_list': ['Category:Classification algorithms',\n",
       "  'Category:Regression analysis',\n",
       "  'Category:Statistical classification'],\n",
       " 'extract': 'two main use term calibration statistic denote special type statistical inference problem thus calibration mean reverse process regression instead future dependent variable predict know explanatory variable know observation dependent variable use predict correspond explanatory variable procedures statistical classification determine class membership probability assess uncertainty give new observation belong already establish class addition calibration use statistic usual general mean calibration example model calibration conjurer use refer bayesian inference value model parameter give datum set much generally type fit statistical model dawid put forecaster good calibrate example event assign probability percent long run proportion actually occur turn percent regression calibration problem regression use know datum observe relationship dependent variable independent variable make estimate value independent variable new observation dependent variable know inverse regression see conjurer slice inverse regression one example date object use observable evidence tree ring dendrochronology carbon radiometric date observation cause age object date rather reverse aim use method estimate date base new observation problem whether model use relate know age observation aim minimise error observation minimise error date two approach produce different result difference increase model use extrapolation distance know result classification calibration classification mean turn transform classifier score class membership probability overview calibration method two class multi class classification task give gebel follow univariate calibration method exist transform classifi score class membership probability two class case assignment value approach see garczarek bayes approach see bennett isotonic regression see zadrozny elkan platt scale form logistic regression see lewis gale platt bayesian binning quantiles bbq calibration see naeini cooper hauskrecht beta calibration see kull filho flach follow multivariate calibration method exist transform classifi score class membership probability case class count great two reduction binary task subsequent pairwise couple see hastie tibshirani dirichlet calibration see gebel prediction forecast prediction forecast brier score sometimes use assess prediction accuracy set prediction specifically magnitude assign probability track relative frequency observe outcome philip tetlock employ term calibration sense book superforecasting differ accuracy precision example express daniel kahneman give event happen probability event happen probability discrimination perfect calibration miserable aggregative contingent estimation program office incisive analysis oia intelligence advanced research projects activity iarpa sponsor research forecast tournament partnership good judgment project co create philip tetlock barbara mellers moore meteorology particular concern weather forecast relate mode assessment know forecast skill see conjurer calibration calibrated probability assessment reference',\n",
       " 'ns': 0,\n",
       " 'pageid': 740955,\n",
       " 'pull_category': 'Category:Classification algorithms',\n",
       " 'title': 'Calibration (statistics)'}"
      ]
     },
     "execution_count": 15,
     "metadata": {},
     "output_type": "execute_result"
    }
   ],
   "source": [
    "docs[1]"
   ]
  },
  {
   "cell_type": "code",
   "execution_count": null,
   "metadata": {},
   "outputs": [],
   "source": []
  }
 ],
 "metadata": {
  "kernelspec": {
   "display_name": "Python 3",
   "language": "python",
   "name": "python3"
  },
  "language_info": {
   "codemirror_mode": {
    "name": "ipython",
    "version": 3
   },
   "file_extension": ".py",
   "mimetype": "text/x-python",
   "name": "python",
   "nbconvert_exporter": "python",
   "pygments_lexer": "ipython3",
   "version": "3.6.3"
  }
 },
 "nbformat": 4,
 "nbformat_minor": 2
}
