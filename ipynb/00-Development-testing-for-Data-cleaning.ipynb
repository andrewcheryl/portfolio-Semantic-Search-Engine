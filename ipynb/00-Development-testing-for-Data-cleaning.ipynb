{
 "cells": [
  {
   "cell_type": "code",
   "execution_count": 1,
   "metadata": {},
   "outputs": [
    {
     "name": "stdout",
     "output_type": "stream",
     "text": [
      "/home/jovyan/dsi_plus/Projects/Project-4-semantic_search\n"
     ]
    }
   ],
   "source": [
    "cd .."
   ]
  },
  {
   "cell_type": "code",
   "execution_count": 2,
   "metadata": {},
   "outputs": [],
   "source": [
    "%run lib/__init__.py\n",
    "%matplotlib inline"
   ]
  },
  {
   "cell_type": "code",
   "execution_count": null,
   "metadata": {},
   "outputs": [],
   "source": [
    "!pip install psycopg2"
   ]
  },
  {
   "cell_type": "code",
   "execution_count": null,
   "metadata": {},
   "outputs": [],
   "source": [
    "!pip install nltk"
   ]
  },
  {
   "cell_type": "code",
   "execution_count": 3,
   "metadata": {},
   "outputs": [],
   "source": [
    "myWiki=MyWikiDB()"
   ]
  },
  {
   "cell_type": "code",
   "execution_count": 4,
   "metadata": {},
   "outputs": [
    {
     "data": {
      "text/plain": [
       "1106"
      ]
     },
     "execution_count": 4,
     "metadata": {},
     "output_type": "execute_result"
    }
   ],
   "source": [
    "pages_cllr=myWiki.dbr.page_collection\n",
    "pages_cllr.find().count()"
   ]
  },
  {
   "cell_type": "code",
   "execution_count": 5,
   "metadata": {},
   "outputs": [
    {
     "data": {
      "text/html": [
       "<div>\n",
       "<table border=\"1\" class=\"dataframe\">\n",
       "  <thead>\n",
       "    <tr style=\"text-align: right;\">\n",
       "      <th></th>\n",
       "      <th>_id</th>\n",
       "      <th>category_list</th>\n",
       "      <th>extract</th>\n",
       "      <th>ns</th>\n",
       "      <th>pageid</th>\n",
       "      <th>pull_category</th>\n",
       "      <th>title</th>\n",
       "    </tr>\n",
       "  </thead>\n",
       "  <tbody>\n",
       "    <tr>\n",
       "      <th>0</th>\n",
       "      <td>43385931</td>\n",
       "      <td>[Category:All articles lacking in-text citatio...</td>\n",
       "      <td>data exploration approach similar initial datu...</td>\n",
       "      <td>0</td>\n",
       "      <td>43385931</td>\n",
       "      <td>Category:Machine learning</td>\n",
       "      <td>Data exploration</td>\n",
       "    </tr>\n",
       "    <tr>\n",
       "      <th>1</th>\n",
       "      <td>49082762</td>\n",
       "      <td>[Category:Artificial intelligence, Category:CS...</td>\n",
       "      <td>these dataset use machine learn research cite ...</td>\n",
       "      <td>0</td>\n",
       "      <td>49082762</td>\n",
       "      <td>Category:Machine learning</td>\n",
       "      <td>List of datasets for machine learning research</td>\n",
       "    </tr>\n",
       "    <tr>\n",
       "      <th>2</th>\n",
       "      <td>233488</td>\n",
       "      <td>[Category:All articles with unsourced statemen...</td>\n",
       "      <td>machine learn field computer science give comp...</td>\n",
       "      <td>0</td>\n",
       "      <td>233488</td>\n",
       "      <td>Category:Machine learning</td>\n",
       "      <td>Machine learning</td>\n",
       "    </tr>\n",
       "    <tr>\n",
       "      <th>3</th>\n",
       "      <td>53587467</td>\n",
       "      <td>[Category:Artificial intelligence, Category:Co...</td>\n",
       "      <td>the follow outline provide overview topical gu...</td>\n",
       "      <td>0</td>\n",
       "      <td>53587467</td>\n",
       "      <td>Category:Machine learning</td>\n",
       "      <td>Outline of machine learning</td>\n",
       "    </tr>\n",
       "    <tr>\n",
       "      <th>4</th>\n",
       "      <td>3771060</td>\n",
       "      <td>[Category:Data mining, Category:Machine learni...</td>\n",
       "      <td>the accuracy paradox predictive analytic state...</td>\n",
       "      <td>0</td>\n",
       "      <td>3771060</td>\n",
       "      <td>Category:Machine learning</td>\n",
       "      <td>Accuracy paradox</td>\n",
       "    </tr>\n",
       "  </tbody>\n",
       "</table>\n",
       "</div>"
      ],
      "text/plain": [
       "        _id                                      category_list  \\\n",
       "0  43385931  [Category:All articles lacking in-text citatio...   \n",
       "1  49082762  [Category:Artificial intelligence, Category:CS...   \n",
       "2    233488  [Category:All articles with unsourced statemen...   \n",
       "3  53587467  [Category:Artificial intelligence, Category:Co...   \n",
       "4   3771060  [Category:Data mining, Category:Machine learni...   \n",
       "\n",
       "                                             extract  ns    pageid  \\\n",
       "0  data exploration approach similar initial datu...   0  43385931   \n",
       "1  these dataset use machine learn research cite ...   0  49082762   \n",
       "2  machine learn field computer science give comp...   0    233488   \n",
       "3  the follow outline provide overview topical gu...   0  53587467   \n",
       "4  the accuracy paradox predictive analytic state...   0   3771060   \n",
       "\n",
       "               pull_category                                           title  \n",
       "0  Category:Machine learning                                Data exploration  \n",
       "1  Category:Machine learning  List of datasets for machine learning research  \n",
       "2  Category:Machine learning                                Machine learning  \n",
       "3  Category:Machine learning                     Outline of machine learning  \n",
       "4  Category:Machine learning                                Accuracy paradox  "
      ]
     },
     "execution_count": 5,
     "metadata": {},
     "output_type": "execute_result"
    }
   ],
   "source": [
    "cursor=pages_cllr.find()\n",
    "pages=list(cursor)\n",
    "corpus_df=pd.DataFrame(pages[:1000])\n",
    "corpus_df.head()"
   ]
  },
  {
   "cell_type": "code",
   "execution_count": 6,
   "metadata": {},
   "outputs": [],
   "source": [
    "def pull_wiki_page(page):\n",
    "    '''\n",
    "    pull page extract and category list for a specified page using \n",
    "    wikipedia API\n",
    "    '''\n",
    "    \n",
    "    #pull page extract\n",
    "    params_p = {\"action\": \"query\",\n",
    "            \"titles\": page,\n",
    "            \"prop\": 'extracts' ,\n",
    "            \"format\": 'json' ,\n",
    "        }\n",
    "            \n",
    "    response_p = requests.get(\"https://en.wikipedia.org/w/api.php\", params = params_p)\n",
    "    data = response_p.json()\n",
    "    \n",
    "    #pull page categories\n",
    "    params_c = {\"action\": \"query\",\n",
    "            \"titles\": page,\n",
    "            \"prop\": 'categories' ,\n",
    "            \"format\": 'json' ,\n",
    "            }\n",
    "            \n",
    "    response_c = requests.get(\"https://en.wikipedia.org/w/api.php\", params = params_c)\n",
    "    cats = response_c.json()\n",
    "            \n",
    "    return data , cats"
   ]
  },
  {
   "cell_type": "code",
   "execution_count": 7,
   "metadata": {},
   "outputs": [],
   "source": [
    "import re \n",
    "import spacy"
   ]
  },
  {
   "cell_type": "code",
   "execution_count": 10,
   "metadata": {},
   "outputs": [
    {
     "name": "stdout",
     "output_type": "stream",
     "text": [
      "[nltk_data] Downloading package stopwords to /home/jovyan/nltk_data...\n",
      "[nltk_data]   Package stopwords is already up-to-date!\n"
     ]
    }
   ],
   "source": [
    "import nltk\n",
    "from nltk.corpus import stopwords\n",
    "nlp=spacy.load('en')\n",
    "nltk.download('stopwords')\n",
    "nltk_stop=stopwords.words('english')\n",
    "nltk_stop.append('displaystyle')"
   ]
  },
  {
   "cell_type": "code",
   "execution_count": 11,
   "metadata": {},
   "outputs": [
    {
     "data": {
      "text/plain": [
       "['i',\n",
       " 'me',\n",
       " 'my',\n",
       " 'myself',\n",
       " 'we',\n",
       " 'our',\n",
       " 'ours',\n",
       " 'ourselves',\n",
       " 'you',\n",
       " 'your',\n",
       " 'yours',\n",
       " 'yourself',\n",
       " 'yourselves',\n",
       " 'he',\n",
       " 'him',\n",
       " 'his',\n",
       " 'himself',\n",
       " 'she',\n",
       " 'her',\n",
       " 'hers',\n",
       " 'herself',\n",
       " 'it',\n",
       " 'its',\n",
       " 'itself',\n",
       " 'they',\n",
       " 'them',\n",
       " 'their',\n",
       " 'theirs',\n",
       " 'themselves',\n",
       " 'what',\n",
       " 'which',\n",
       " 'who',\n",
       " 'whom',\n",
       " 'this',\n",
       " 'that',\n",
       " 'these',\n",
       " 'those',\n",
       " 'am',\n",
       " 'is',\n",
       " 'are',\n",
       " 'was',\n",
       " 'were',\n",
       " 'be',\n",
       " 'been',\n",
       " 'being',\n",
       " 'have',\n",
       " 'has',\n",
       " 'had',\n",
       " 'having',\n",
       " 'do',\n",
       " 'does',\n",
       " 'did',\n",
       " 'doing',\n",
       " 'a',\n",
       " 'an',\n",
       " 'the',\n",
       " 'and',\n",
       " 'but',\n",
       " 'if',\n",
       " 'or',\n",
       " 'because',\n",
       " 'as',\n",
       " 'until',\n",
       " 'while',\n",
       " 'of',\n",
       " 'at',\n",
       " 'by',\n",
       " 'for',\n",
       " 'with',\n",
       " 'about',\n",
       " 'against',\n",
       " 'between',\n",
       " 'into',\n",
       " 'through',\n",
       " 'during',\n",
       " 'before',\n",
       " 'after',\n",
       " 'above',\n",
       " 'below',\n",
       " 'to',\n",
       " 'from',\n",
       " 'up',\n",
       " 'down',\n",
       " 'in',\n",
       " 'out',\n",
       " 'on',\n",
       " 'off',\n",
       " 'over',\n",
       " 'under',\n",
       " 'again',\n",
       " 'further',\n",
       " 'then',\n",
       " 'once',\n",
       " 'here',\n",
       " 'there',\n",
       " 'when',\n",
       " 'where',\n",
       " 'why',\n",
       " 'how',\n",
       " 'all',\n",
       " 'any',\n",
       " 'both',\n",
       " 'each',\n",
       " 'few',\n",
       " 'more',\n",
       " 'most',\n",
       " 'other',\n",
       " 'some',\n",
       " 'such',\n",
       " 'no',\n",
       " 'nor',\n",
       " 'not',\n",
       " 'only',\n",
       " 'own',\n",
       " 'same',\n",
       " 'so',\n",
       " 'than',\n",
       " 'too',\n",
       " 'very',\n",
       " 's',\n",
       " 't',\n",
       " 'can',\n",
       " 'will',\n",
       " 'just',\n",
       " 'don',\n",
       " 'should',\n",
       " 'now',\n",
       " 'd',\n",
       " 'll',\n",
       " 'm',\n",
       " 'o',\n",
       " 're',\n",
       " 've',\n",
       " 'y',\n",
       " 'ain',\n",
       " 'aren',\n",
       " 'couldn',\n",
       " 'didn',\n",
       " 'doesn',\n",
       " 'hadn',\n",
       " 'hasn',\n",
       " 'haven',\n",
       " 'isn',\n",
       " 'ma',\n",
       " 'mightn',\n",
       " 'mustn',\n",
       " 'needn',\n",
       " 'shan',\n",
       " 'shouldn',\n",
       " 'wasn',\n",
       " 'weren',\n",
       " 'won',\n",
       " 'wouldn',\n",
       " 'displaystyle']"
      ]
     },
     "execution_count": 11,
     "metadata": {},
     "output_type": "execute_result"
    }
   ],
   "source": [
    "nltk_stop"
   ]
  },
  {
   "cell_type": "code",
   "execution_count": null,
   "metadata": {},
   "outputs": [],
   "source": [
    "def cleaner(text):\n",
    "    ''' Clean text data, apply spacy lemmatization and nltk stop words'''\n",
    "    text = re.sub('<* />','',text)\n",
    "    text = re.sub('<.*>.*</.*>','', text)\n",
    "    text = re.sub('[\\d]',' ',text)\n",
    "    text = re.sub('{*}',' ',text)\n",
    "    text = re.sub('[\\n]',' ',text)\n",
    "    text = re.sub('[^a-zA-Z ]',' ',text)\n",
    "    text = ' '.join(i.lemma_ for i in nlp(text)\n",
    "                    if i.orth_ not in nltk_stop)\n",
    "    text = ' '.join(text.split())\n",
    "    return text"
   ]
  },
  {
   "cell_type": "code",
   "execution_count": null,
   "metadata": {},
   "outputs": [],
   "source": [
    "def read_articles( pageid, page):\n",
    "        '''\n",
    "        read page extract and category list from wikipedi \n",
    "        API query and add to page dict\n",
    "        '''\n",
    "        data, cats=pull_wiki_page(page)\n",
    "        \n",
    "        # first data clean - extra from json query and parse html\n",
    "        article=data['query']['pages'][pageid]['extract']\n",
    "        soup = BeautifulSoup(article, 'html.parser')\n",
    "        extract=soup.get_text()\n",
    "        \n",
    "        # 2nd data clean including lemmatization and stop words\n",
    "        \n",
    "        extract_clean=cleaner(extract)\n",
    "\n",
    "        #cats_p=[c['title'] for c in cats['query']['pages'][str(page['pageid'])]['categories']]\n",
    "\n",
    "        #page['category_list']=cats_p\n",
    "        #page['extract']=extract_clean\n",
    "        \n",
    "        #Add _id field as pageid - will be used as a unique index by Mongo\n",
    "        #page['_id']=page['pageid']\n",
    "        \n",
    "        return extract_clean "
   ]
  },
  {
   "cell_type": "code",
   "execution_count": null,
   "metadata": {},
   "outputs": [],
   "source": [
    "read_articles('3771060', 'Accuracy paradox')"
   ]
  },
  {
   "cell_type": "code",
   "execution_count": null,
   "metadata": {},
   "outputs": [],
   "source": []
  }
 ],
 "metadata": {
  "kernelspec": {
   "display_name": "Python 3",
   "language": "python",
   "name": "python3"
  },
  "language_info": {
   "codemirror_mode": {
    "name": "ipython",
    "version": 3
   },
   "file_extension": ".py",
   "mimetype": "text/x-python",
   "name": "python",
   "nbconvert_exporter": "python",
   "pygments_lexer": "ipython3",
   "version": "3.6.3"
  }
 },
 "nbformat": 4,
 "nbformat_minor": 2
}
