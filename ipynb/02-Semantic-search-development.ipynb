{
 "cells": [
  {
   "cell_type": "code",
   "execution_count": 1,
   "metadata": {},
   "outputs": [
    {
     "name": "stdout",
     "output_type": "stream",
     "text": [
      "/home/jovyan/dsi_plus/Projects/Project-4-semantic_search\n"
     ]
    }
   ],
   "source": [
    "cd .."
   ]
  },
  {
   "cell_type": "code",
   "execution_count": 2,
   "metadata": {},
   "outputs": [],
   "source": [
    "%run lib/__init__.py\n",
    "%matplotlib inline"
   ]
  },
  {
   "cell_type": "markdown",
   "metadata": {},
   "source": [
    "# Project 4 - Semantic Search\n",
    "\n",
    "## Latent Semantic search - model development\n",
    "\n",
    " - build corpus\n",
    " - vectorize with tfidf\n",
    " - reduce dimmenions with SVD\n",
    " - explore feattures - amend data cleaning and iterate \n",
    " - build search function\n",
    "\n",
    "Restricted modle development proces to 2000 pages out of 5603 available - this was too much for memory and kept crashing kernel. For production model data as been kept in sparse matrix until final step."
   ]
  },
  {
   "cell_type": "code",
   "execution_count": 3,
   "metadata": {},
   "outputs": [],
   "source": [
    "myWiki=MyWikiDB()"
   ]
  },
  {
   "cell_type": "code",
   "execution_count": 4,
   "metadata": {},
   "outputs": [],
   "source": [
    "cat_loaded_cllr=myWiki.dbr.loads_collection"
   ]
  },
  {
   "cell_type": "code",
   "execution_count": 5,
   "metadata": {},
   "outputs": [
    {
     "data": {
      "text/plain": [
       "[{'_id': ObjectId('5a22fb42cd7a89048f93ca2e'),\n",
       "  'loaded': 'Sat Dec  2 19:13:06 2017',\n",
       "  'master_cat': 'Category:Machine learning',\n",
       "  'sub_cats_added': 48},\n",
       " {'_id': ObjectId('5a230356cd7a89053addcc84'),\n",
       "  'loaded': 'Sat Dec  2 19:47:34 2017',\n",
       "  'master_cat': 'Category:Business software',\n",
       "  'sub_cats_added': 206}]"
      ]
     },
     "execution_count": 5,
     "metadata": {},
     "output_type": "execute_result"
    }
   ],
   "source": [
    "cursor=cat_loaded_cllr.find()\n",
    "loaded=list(cursor)\n",
    "loaded"
   ]
  },
  {
   "cell_type": "code",
   "execution_count": 6,
   "metadata": {},
   "outputs": [],
   "source": [
    "pages_cllr=myWiki.dbr.page_collection"
   ]
  },
  {
   "cell_type": "code",
   "execution_count": 7,
   "metadata": {},
   "outputs": [
    {
     "data": {
      "text/plain": [
       "5603"
      ]
     },
     "execution_count": 7,
     "metadata": {},
     "output_type": "execute_result"
    }
   ],
   "source": [
    "pages_cllr.find().count()"
   ]
  },
  {
   "cell_type": "code",
   "execution_count": 8,
   "metadata": {},
   "outputs": [],
   "source": [
    "cursor=pages_cllr.find()\n",
    "pages=list(cursor)"
   ]
  },
  {
   "cell_type": "code",
   "execution_count": 9,
   "metadata": {},
   "outputs": [
    {
     "data": {
      "text/html": [
       "<div>\n",
       "<table border=\"1\" class=\"dataframe\">\n",
       "  <thead>\n",
       "    <tr style=\"text-align: right;\">\n",
       "      <th></th>\n",
       "      <th>_id</th>\n",
       "      <th>category_list</th>\n",
       "      <th>extract</th>\n",
       "      <th>ns</th>\n",
       "      <th>pageid</th>\n",
       "      <th>pull_category</th>\n",
       "      <th>title</th>\n",
       "    </tr>\n",
       "  </thead>\n",
       "  <tbody>\n",
       "    <tr>\n",
       "      <th>0</th>\n",
       "      <td>43385931</td>\n",
       "      <td>[Category:All articles lacking in-text citatio...</td>\n",
       "      <td>data exploration approach similar initial datu...</td>\n",
       "      <td>0</td>\n",
       "      <td>43385931</td>\n",
       "      <td>Category:Machine learning</td>\n",
       "      <td>Data exploration</td>\n",
       "    </tr>\n",
       "    <tr>\n",
       "      <th>1</th>\n",
       "      <td>49082762</td>\n",
       "      <td>[Category:Artificial intelligence, Category:CS...</td>\n",
       "      <td>these dataset use machine learn research cite ...</td>\n",
       "      <td>0</td>\n",
       "      <td>49082762</td>\n",
       "      <td>Category:Machine learning</td>\n",
       "      <td>List of datasets for machine learning research</td>\n",
       "    </tr>\n",
       "    <tr>\n",
       "      <th>2</th>\n",
       "      <td>233488</td>\n",
       "      <td>[Category:All articles with unsourced statemen...</td>\n",
       "      <td>machine learn field computer science give comp...</td>\n",
       "      <td>0</td>\n",
       "      <td>233488</td>\n",
       "      <td>Category:Machine learning</td>\n",
       "      <td>Machine learning</td>\n",
       "    </tr>\n",
       "    <tr>\n",
       "      <th>3</th>\n",
       "      <td>53587467</td>\n",
       "      <td>[Category:Artificial intelligence, Category:Co...</td>\n",
       "      <td>the follow outline provide overview topical gu...</td>\n",
       "      <td>0</td>\n",
       "      <td>53587467</td>\n",
       "      <td>Category:Machine learning</td>\n",
       "      <td>Outline of machine learning</td>\n",
       "    </tr>\n",
       "    <tr>\n",
       "      <th>4</th>\n",
       "      <td>3771060</td>\n",
       "      <td>[Category:Data mining, Category:Machine learni...</td>\n",
       "      <td>the accuracy paradox predictive analytic state...</td>\n",
       "      <td>0</td>\n",
       "      <td>3771060</td>\n",
       "      <td>Category:Machine learning</td>\n",
       "      <td>Accuracy paradox</td>\n",
       "    </tr>\n",
       "  </tbody>\n",
       "</table>\n",
       "</div>"
      ],
      "text/plain": [
       "        _id                                      category_list  \\\n",
       "0  43385931  [Category:All articles lacking in-text citatio...   \n",
       "1  49082762  [Category:Artificial intelligence, Category:CS...   \n",
       "2    233488  [Category:All articles with unsourced statemen...   \n",
       "3  53587467  [Category:Artificial intelligence, Category:Co...   \n",
       "4   3771060  [Category:Data mining, Category:Machine learni...   \n",
       "\n",
       "                                             extract  ns    pageid  \\\n",
       "0  data exploration approach similar initial datu...   0  43385931   \n",
       "1  these dataset use machine learn research cite ...   0  49082762   \n",
       "2  machine learn field computer science give comp...   0    233488   \n",
       "3  the follow outline provide overview topical gu...   0  53587467   \n",
       "4  the accuracy paradox predictive analytic state...   0   3771060   \n",
       "\n",
       "               pull_category                                           title  \n",
       "0  Category:Machine learning                                Data exploration  \n",
       "1  Category:Machine learning  List of datasets for machine learning research  \n",
       "2  Category:Machine learning                                Machine learning  \n",
       "3  Category:Machine learning                     Outline of machine learning  \n",
       "4  Category:Machine learning                                Accuracy paradox  "
      ]
     },
     "execution_count": 9,
     "metadata": {},
     "output_type": "execute_result"
    }
   ],
   "source": [
    "corpus_df=pd.DataFrame(pages[:2000])\n",
    "corpus_df.head()"
   ]
  },
  {
   "cell_type": "code",
   "execution_count": 10,
   "metadata": {},
   "outputs": [],
   "source": [
    "columns_to_drop=['ns', 'category_list','pull_category', '_id']\n",
    "corpus_df.drop(columns_to_drop, axis=1, inplace=True)"
   ]
  },
  {
   "cell_type": "code",
   "execution_count": 11,
   "metadata": {},
   "outputs": [],
   "source": [
    "corpus_df.set_index('title', inplace=True)"
   ]
  },
  {
   "cell_type": "code",
   "execution_count": 12,
   "metadata": {
    "scrolled": true
   },
   "outputs": [
    {
     "data": {
      "text/html": [
       "<div>\n",
       "<table border=\"1\" class=\"dataframe\">\n",
       "  <thead>\n",
       "    <tr style=\"text-align: right;\">\n",
       "      <th></th>\n",
       "      <th>extract</th>\n",
       "      <th>pageid</th>\n",
       "    </tr>\n",
       "    <tr>\n",
       "      <th>title</th>\n",
       "      <th></th>\n",
       "      <th></th>\n",
       "    </tr>\n",
       "  </thead>\n",
       "  <tbody>\n",
       "    <tr>\n",
       "      <th>Data exploration</th>\n",
       "      <td>data exploration approach similar initial datu...</td>\n",
       "      <td>43385931</td>\n",
       "    </tr>\n",
       "    <tr>\n",
       "      <th>List of datasets for machine learning research</th>\n",
       "      <td>these dataset use machine learn research cite ...</td>\n",
       "      <td>49082762</td>\n",
       "    </tr>\n",
       "    <tr>\n",
       "      <th>Machine learning</th>\n",
       "      <td>machine learn field computer science give comp...</td>\n",
       "      <td>233488</td>\n",
       "    </tr>\n",
       "    <tr>\n",
       "      <th>Outline of machine learning</th>\n",
       "      <td>the follow outline provide overview topical gu...</td>\n",
       "      <td>53587467</td>\n",
       "    </tr>\n",
       "    <tr>\n",
       "      <th>Accuracy paradox</th>\n",
       "      <td>the accuracy paradox predictive analytic state...</td>\n",
       "      <td>3771060</td>\n",
       "    </tr>\n",
       "  </tbody>\n",
       "</table>\n",
       "</div>"
      ],
      "text/plain": [
       "                                                                                          extract  \\\n",
       "title                                                                                               \n",
       "Data exploration                                data exploration approach similar initial datu...   \n",
       "List of datasets for machine learning research  these dataset use machine learn research cite ...   \n",
       "Machine learning                                machine learn field computer science give comp...   \n",
       "Outline of machine learning                     the follow outline provide overview topical gu...   \n",
       "Accuracy paradox                                the accuracy paradox predictive analytic state...   \n",
       "\n",
       "                                                  pageid  \n",
       "title                                                     \n",
       "Data exploration                                43385931  \n",
       "List of datasets for machine learning research  49082762  \n",
       "Machine learning                                  233488  \n",
       "Outline of machine learning                     53587467  \n",
       "Accuracy paradox                                 3771060  "
      ]
     },
     "execution_count": 12,
     "metadata": {},
     "output_type": "execute_result"
    }
   ],
   "source": [
    "corpus_df.head()"
   ]
  },
  {
   "cell_type": "code",
   "execution_count": 13,
   "metadata": {},
   "outputs": [
    {
     "name": "stdout",
     "output_type": "stream",
     "text": [
      "<class 'pandas.core.frame.DataFrame'>\n",
      "Index: 2000 entries, Data exploration to Sy.Med Development\n",
      "Data columns (total 2 columns):\n",
      "extract    2000 non-null object\n",
      "pageid     2000 non-null int64\n",
      "dtypes: int64(1), object(1)\n",
      "memory usage: 46.9+ KB\n"
     ]
    }
   ],
   "source": [
    "corpus_df.info()"
   ]
  },
  {
   "cell_type": "markdown",
   "metadata": {},
   "source": [
    "## Abreviations to use in code\n",
    "* dtm = document term matrix\n",
    "* dtma= augmented document term matrix - including search term\n",
    "* sp = sparse as apposed to df = dataframe\n",
    "* svdm= singular value decomposition matrix  - by component\n",
    "* svdma= singular value decomposition augmented matrix  - including search term\n",
    "* tfidf_v= TFiDF Vectorizer\n",
    "* svd_v= svd vectorizer\n",
    "* lsa= Latent Semantic Analysis\n",
    "* sterm= search term"
   ]
  },
  {
   "cell_type": "markdown",
   "metadata": {},
   "source": [
    "### Label encode the title"
   ]
  },
  {
   "cell_type": "code",
   "execution_count": 14,
   "metadata": {},
   "outputs": [],
   "source": [
    "from sklearn.preprocessing import LabelEncoder\n",
    "from sklearn.feature_extraction.text import TfidfVectorizer\n",
    "from sklearn.decomposition import TruncatedSVD\n",
    "from sklearn.metrics.pairwise import cosine_similarity\n",
    "from sklearn.pipeline import Pipeline"
   ]
  },
  {
   "cell_type": "code",
   "execution_count": 15,
   "metadata": {},
   "outputs": [],
   "source": [
    "le=LabelEncoder()\n",
    "corpus_df['title_numerical'] = le.fit_transform(corpus_df.index)"
   ]
  },
  {
   "cell_type": "code",
   "execution_count": 16,
   "metadata": {},
   "outputs": [
    {
     "data": {
      "text/html": [
       "<div>\n",
       "<table border=\"1\" class=\"dataframe\">\n",
       "  <thead>\n",
       "    <tr style=\"text-align: right;\">\n",
       "      <th></th>\n",
       "      <th>extract</th>\n",
       "      <th>pageid</th>\n",
       "      <th>title_numerical</th>\n",
       "    </tr>\n",
       "    <tr>\n",
       "      <th>title</th>\n",
       "      <th></th>\n",
       "      <th></th>\n",
       "      <th></th>\n",
       "    </tr>\n",
       "  </thead>\n",
       "  <tbody>\n",
       "    <tr>\n",
       "      <th>Data exploration</th>\n",
       "      <td>data exploration approach similar initial datu...</td>\n",
       "      <td>43385931</td>\n",
       "      <td>394</td>\n",
       "    </tr>\n",
       "    <tr>\n",
       "      <th>List of datasets for machine learning research</th>\n",
       "      <td>these dataset use machine learn research cite ...</td>\n",
       "      <td>49082762</td>\n",
       "      <td>1028</td>\n",
       "    </tr>\n",
       "    <tr>\n",
       "      <th>Machine learning</th>\n",
       "      <td>machine learn field computer science give comp...</td>\n",
       "      <td>233488</td>\n",
       "      <td>1079</td>\n",
       "    </tr>\n",
       "    <tr>\n",
       "      <th>Outline of machine learning</th>\n",
       "      <td>the follow outline provide overview topical gu...</td>\n",
       "      <td>53587467</td>\n",
       "      <td>1331</td>\n",
       "    </tr>\n",
       "  </tbody>\n",
       "</table>\n",
       "</div>"
      ],
      "text/plain": [
       "                                                                                          extract  \\\n",
       "title                                                                                               \n",
       "Data exploration                                data exploration approach similar initial datu...   \n",
       "List of datasets for machine learning research  these dataset use machine learn research cite ...   \n",
       "Machine learning                                machine learn field computer science give comp...   \n",
       "Outline of machine learning                     the follow outline provide overview topical gu...   \n",
       "\n",
       "                                                  pageid  title_numerical  \n",
       "title                                                                      \n",
       "Data exploration                                43385931              394  \n",
       "List of datasets for machine learning research  49082762             1028  \n",
       "Machine learning                                  233488             1079  \n",
       "Outline of machine learning                     53587467             1331  "
      ]
     },
     "execution_count": 16,
     "metadata": {},
     "output_type": "execute_result"
    }
   ],
   "source": [
    "corpus_df.head(4)"
   ]
  },
  {
   "cell_type": "markdown",
   "metadata": {},
   "source": [
    "### Prepare for DTM"
   ]
  },
  {
   "cell_type": "code",
   "execution_count": 17,
   "metadata": {},
   "outputs": [],
   "source": [
    "tfidf_v = TfidfVectorizer(min_df = 2, stop_words = 'english')"
   ]
  },
  {
   "cell_type": "code",
   "execution_count": 18,
   "metadata": {},
   "outputs": [
    {
     "name": "stdout",
     "output_type": "stream",
     "text": [
      "CPU times: user 750 ms, sys: 0 ns, total: 750 ms\n",
      "Wall time: 745 ms\n"
     ]
    }
   ],
   "source": [
    "%%time\n",
    "dtm_sp = tfidf_v.fit_transform(corpus_df.extract)"
   ]
  },
  {
   "cell_type": "code",
   "execution_count": 19,
   "metadata": {},
   "outputs": [
    {
     "data": {
      "text/plain": [
       "<2000x16450 sparse matrix of type '<class 'numpy.float64'>'\n",
       "\twith 405080 stored elements in Compressed Sparse Row format>"
      ]
     },
     "execution_count": 19,
     "metadata": {},
     "output_type": "execute_result"
    }
   ],
   "source": [
    "dtm_sp"
   ]
  },
  {
   "cell_type": "code",
   "execution_count": 20,
   "metadata": {},
   "outputs": [],
   "source": [
    "dtm_df = pd.DataFrame(dtm_sp.toarray(),\n",
    "                                       index=corpus_df.index,\n",
    "                                       columns=tfidf_v.get_feature_names())"
   ]
  },
  {
   "cell_type": "code",
   "execution_count": 21,
   "metadata": {},
   "outputs": [
    {
     "data": {
      "text/html": [
       "<div>\n",
       "<table border=\"1\" class=\"dataframe\">\n",
       "  <thead>\n",
       "    <tr style=\"text-align: right;\">\n",
       "      <th>title</th>\n",
       "      <th>Data exploration</th>\n",
       "      <th>List of datasets for machine learning research</th>\n",
       "      <th>Machine learning</th>\n",
       "      <th>Outline of machine learning</th>\n",
       "      <th>Accuracy paradox</th>\n",
       "      <th>Action model learning</th>\n",
       "      <th>Active learning (machine learning)</th>\n",
       "      <th>Adversarial machine learning</th>\n",
       "      <th>AIVA</th>\n",
       "      <th>AIXI</th>\n",
       "      <th>...</th>\n",
       "      <th>Mpedigree</th>\n",
       "      <th>MyFitnessPal</th>\n",
       "      <th>NHS Pathways</th>\n",
       "      <th>Nomad Health</th>\n",
       "      <th>Patient-Reported Outcomes Measurement Information System</th>\n",
       "      <th>Preventice</th>\n",
       "      <th>Searchmedica</th>\n",
       "      <th>SleepBot</th>\n",
       "      <th>Simulation Open Framework Architecture</th>\n",
       "      <th>Sy.Med Development</th>\n",
       "    </tr>\n",
       "  </thead>\n",
       "  <tbody>\n",
       "    <tr>\n",
       "      <th>10</th>\n",
       "      <td>0.0</td>\n",
       "      <td>0.0</td>\n",
       "      <td>0.0</td>\n",
       "      <td>0.0</td>\n",
       "      <td>0.0</td>\n",
       "      <td>0.000000</td>\n",
       "      <td>0.0</td>\n",
       "      <td>0.0</td>\n",
       "      <td>0.0</td>\n",
       "      <td>0.0</td>\n",
       "      <td>...</td>\n",
       "      <td>0.0</td>\n",
       "      <td>0.0</td>\n",
       "      <td>0.0</td>\n",
       "      <td>0.0</td>\n",
       "      <td>0.0</td>\n",
       "      <td>0.0</td>\n",
       "      <td>0.0</td>\n",
       "      <td>0.0</td>\n",
       "      <td>0.0</td>\n",
       "      <td>0.0</td>\n",
       "    </tr>\n",
       "    <tr>\n",
       "      <th>20</th>\n",
       "      <td>0.0</td>\n",
       "      <td>0.0</td>\n",
       "      <td>0.0</td>\n",
       "      <td>0.0</td>\n",
       "      <td>0.0</td>\n",
       "      <td>0.000000</td>\n",
       "      <td>0.0</td>\n",
       "      <td>0.0</td>\n",
       "      <td>0.0</td>\n",
       "      <td>0.0</td>\n",
       "      <td>...</td>\n",
       "      <td>0.0</td>\n",
       "      <td>0.0</td>\n",
       "      <td>0.0</td>\n",
       "      <td>0.0</td>\n",
       "      <td>0.0</td>\n",
       "      <td>0.0</td>\n",
       "      <td>0.0</td>\n",
       "      <td>0.0</td>\n",
       "      <td>0.0</td>\n",
       "      <td>0.0</td>\n",
       "    </tr>\n",
       "    <tr>\n",
       "      <th>aa</th>\n",
       "      <td>0.0</td>\n",
       "      <td>0.0</td>\n",
       "      <td>0.0</td>\n",
       "      <td>0.0</td>\n",
       "      <td>0.0</td>\n",
       "      <td>0.000000</td>\n",
       "      <td>0.0</td>\n",
       "      <td>0.0</td>\n",
       "      <td>0.0</td>\n",
       "      <td>0.0</td>\n",
       "      <td>...</td>\n",
       "      <td>0.0</td>\n",
       "      <td>0.0</td>\n",
       "      <td>0.0</td>\n",
       "      <td>0.0</td>\n",
       "      <td>0.0</td>\n",
       "      <td>0.0</td>\n",
       "      <td>0.0</td>\n",
       "      <td>0.0</td>\n",
       "      <td>0.0</td>\n",
       "      <td>0.0</td>\n",
       "    </tr>\n",
       "    <tr>\n",
       "      <th>aaa</th>\n",
       "      <td>0.0</td>\n",
       "      <td>0.0</td>\n",
       "      <td>0.0</td>\n",
       "      <td>0.0</td>\n",
       "      <td>0.0</td>\n",
       "      <td>0.000000</td>\n",
       "      <td>0.0</td>\n",
       "      <td>0.0</td>\n",
       "      <td>0.0</td>\n",
       "      <td>0.0</td>\n",
       "      <td>...</td>\n",
       "      <td>0.0</td>\n",
       "      <td>0.0</td>\n",
       "      <td>0.0</td>\n",
       "      <td>0.0</td>\n",
       "      <td>0.0</td>\n",
       "      <td>0.0</td>\n",
       "      <td>0.0</td>\n",
       "      <td>0.0</td>\n",
       "      <td>0.0</td>\n",
       "      <td>0.0</td>\n",
       "    </tr>\n",
       "    <tr>\n",
       "      <th>aaai</th>\n",
       "      <td>0.0</td>\n",
       "      <td>0.0</td>\n",
       "      <td>0.0</td>\n",
       "      <td>0.0</td>\n",
       "      <td>0.0</td>\n",
       "      <td>0.037698</td>\n",
       "      <td>0.0</td>\n",
       "      <td>0.0</td>\n",
       "      <td>0.0</td>\n",
       "      <td>0.0</td>\n",
       "      <td>...</td>\n",
       "      <td>0.0</td>\n",
       "      <td>0.0</td>\n",
       "      <td>0.0</td>\n",
       "      <td>0.0</td>\n",
       "      <td>0.0</td>\n",
       "      <td>0.0</td>\n",
       "      <td>0.0</td>\n",
       "      <td>0.0</td>\n",
       "      <td>0.0</td>\n",
       "      <td>0.0</td>\n",
       "    </tr>\n",
       "    <tr>\n",
       "      <th>aaas</th>\n",
       "      <td>0.0</td>\n",
       "      <td>0.0</td>\n",
       "      <td>0.0</td>\n",
       "      <td>0.0</td>\n",
       "      <td>0.0</td>\n",
       "      <td>0.000000</td>\n",
       "      <td>0.0</td>\n",
       "      <td>0.0</td>\n",
       "      <td>0.0</td>\n",
       "      <td>0.0</td>\n",
       "      <td>...</td>\n",
       "      <td>0.0</td>\n",
       "      <td>0.0</td>\n",
       "      <td>0.0</td>\n",
       "      <td>0.0</td>\n",
       "      <td>0.0</td>\n",
       "      <td>0.0</td>\n",
       "      <td>0.0</td>\n",
       "      <td>0.0</td>\n",
       "      <td>0.0</td>\n",
       "      <td>0.0</td>\n",
       "    </tr>\n",
       "    <tr>\n",
       "      <th>aab</th>\n",
       "      <td>0.0</td>\n",
       "      <td>0.0</td>\n",
       "      <td>0.0</td>\n",
       "      <td>0.0</td>\n",
       "      <td>0.0</td>\n",
       "      <td>0.000000</td>\n",
       "      <td>0.0</td>\n",
       "      <td>0.0</td>\n",
       "      <td>0.0</td>\n",
       "      <td>0.0</td>\n",
       "      <td>...</td>\n",
       "      <td>0.0</td>\n",
       "      <td>0.0</td>\n",
       "      <td>0.0</td>\n",
       "      <td>0.0</td>\n",
       "      <td>0.0</td>\n",
       "      <td>0.0</td>\n",
       "      <td>0.0</td>\n",
       "      <td>0.0</td>\n",
       "      <td>0.0</td>\n",
       "      <td>0.0</td>\n",
       "    </tr>\n",
       "    <tr>\n",
       "      <th>aachen</th>\n",
       "      <td>0.0</td>\n",
       "      <td>0.0</td>\n",
       "      <td>0.0</td>\n",
       "      <td>0.0</td>\n",
       "      <td>0.0</td>\n",
       "      <td>0.000000</td>\n",
       "      <td>0.0</td>\n",
       "      <td>0.0</td>\n",
       "      <td>0.0</td>\n",
       "      <td>0.0</td>\n",
       "      <td>...</td>\n",
       "      <td>0.0</td>\n",
       "      <td>0.0</td>\n",
       "      <td>0.0</td>\n",
       "      <td>0.0</td>\n",
       "      <td>0.0</td>\n",
       "      <td>0.0</td>\n",
       "      <td>0.0</td>\n",
       "      <td>0.0</td>\n",
       "      <td>0.0</td>\n",
       "      <td>0.0</td>\n",
       "    </tr>\n",
       "    <tr>\n",
       "      <th>aai</th>\n",
       "      <td>0.0</td>\n",
       "      <td>0.0</td>\n",
       "      <td>0.0</td>\n",
       "      <td>0.0</td>\n",
       "      <td>0.0</td>\n",
       "      <td>0.055074</td>\n",
       "      <td>0.0</td>\n",
       "      <td>0.0</td>\n",
       "      <td>0.0</td>\n",
       "      <td>0.0</td>\n",
       "      <td>...</td>\n",
       "      <td>0.0</td>\n",
       "      <td>0.0</td>\n",
       "      <td>0.0</td>\n",
       "      <td>0.0</td>\n",
       "      <td>0.0</td>\n",
       "      <td>0.0</td>\n",
       "      <td>0.0</td>\n",
       "      <td>0.0</td>\n",
       "      <td>0.0</td>\n",
       "      <td>0.0</td>\n",
       "    </tr>\n",
       "    <tr>\n",
       "      <th>aalborg</th>\n",
       "      <td>0.0</td>\n",
       "      <td>0.0</td>\n",
       "      <td>0.0</td>\n",
       "      <td>0.0</td>\n",
       "      <td>0.0</td>\n",
       "      <td>0.000000</td>\n",
       "      <td>0.0</td>\n",
       "      <td>0.0</td>\n",
       "      <td>0.0</td>\n",
       "      <td>0.0</td>\n",
       "      <td>...</td>\n",
       "      <td>0.0</td>\n",
       "      <td>0.0</td>\n",
       "      <td>0.0</td>\n",
       "      <td>0.0</td>\n",
       "      <td>0.0</td>\n",
       "      <td>0.0</td>\n",
       "      <td>0.0</td>\n",
       "      <td>0.0</td>\n",
       "      <td>0.0</td>\n",
       "      <td>0.0</td>\n",
       "    </tr>\n",
       "  </tbody>\n",
       "</table>\n",
       "<p>10 rows × 2000 columns</p>\n",
       "</div>"
      ],
      "text/plain": [
       "title    Data exploration  List of datasets for machine learning research  \\\n",
       "10                    0.0                                             0.0   \n",
       "20                    0.0                                             0.0   \n",
       "aa                    0.0                                             0.0   \n",
       "aaa                   0.0                                             0.0   \n",
       "aaai                  0.0                                             0.0   \n",
       "aaas                  0.0                                             0.0   \n",
       "aab                   0.0                                             0.0   \n",
       "aachen                0.0                                             0.0   \n",
       "aai                   0.0                                             0.0   \n",
       "aalborg               0.0                                             0.0   \n",
       "\n",
       "title    Machine learning  Outline of machine learning  Accuracy paradox  \\\n",
       "10                    0.0                          0.0               0.0   \n",
       "20                    0.0                          0.0               0.0   \n",
       "aa                    0.0                          0.0               0.0   \n",
       "aaa                   0.0                          0.0               0.0   \n",
       "aaai                  0.0                          0.0               0.0   \n",
       "aaas                  0.0                          0.0               0.0   \n",
       "aab                   0.0                          0.0               0.0   \n",
       "aachen                0.0                          0.0               0.0   \n",
       "aai                   0.0                          0.0               0.0   \n",
       "aalborg               0.0                          0.0               0.0   \n",
       "\n",
       "title    Action model learning  Active learning (machine learning)  \\\n",
       "10                    0.000000                                 0.0   \n",
       "20                    0.000000                                 0.0   \n",
       "aa                    0.000000                                 0.0   \n",
       "aaa                   0.000000                                 0.0   \n",
       "aaai                  0.037698                                 0.0   \n",
       "aaas                  0.000000                                 0.0   \n",
       "aab                   0.000000                                 0.0   \n",
       "aachen                0.000000                                 0.0   \n",
       "aai                   0.055074                                 0.0   \n",
       "aalborg               0.000000                                 0.0   \n",
       "\n",
       "title    Adversarial machine learning  AIVA  AIXI         ...          \\\n",
       "10                                0.0   0.0   0.0         ...           \n",
       "20                                0.0   0.0   0.0         ...           \n",
       "aa                                0.0   0.0   0.0         ...           \n",
       "aaa                               0.0   0.0   0.0         ...           \n",
       "aaai                              0.0   0.0   0.0         ...           \n",
       "aaas                              0.0   0.0   0.0         ...           \n",
       "aab                               0.0   0.0   0.0         ...           \n",
       "aachen                            0.0   0.0   0.0         ...           \n",
       "aai                               0.0   0.0   0.0         ...           \n",
       "aalborg                           0.0   0.0   0.0         ...           \n",
       "\n",
       "title    Mpedigree  MyFitnessPal  NHS Pathways  Nomad Health  \\\n",
       "10             0.0           0.0           0.0           0.0   \n",
       "20             0.0           0.0           0.0           0.0   \n",
       "aa             0.0           0.0           0.0           0.0   \n",
       "aaa            0.0           0.0           0.0           0.0   \n",
       "aaai           0.0           0.0           0.0           0.0   \n",
       "aaas           0.0           0.0           0.0           0.0   \n",
       "aab            0.0           0.0           0.0           0.0   \n",
       "aachen         0.0           0.0           0.0           0.0   \n",
       "aai            0.0           0.0           0.0           0.0   \n",
       "aalborg        0.0           0.0           0.0           0.0   \n",
       "\n",
       "title    Patient-Reported Outcomes Measurement Information System  Preventice  \\\n",
       "10                                                     0.0                0.0   \n",
       "20                                                     0.0                0.0   \n",
       "aa                                                     0.0                0.0   \n",
       "aaa                                                    0.0                0.0   \n",
       "aaai                                                   0.0                0.0   \n",
       "aaas                                                   0.0                0.0   \n",
       "aab                                                    0.0                0.0   \n",
       "aachen                                                 0.0                0.0   \n",
       "aai                                                    0.0                0.0   \n",
       "aalborg                                                0.0                0.0   \n",
       "\n",
       "title    Searchmedica  SleepBot  Simulation Open Framework Architecture  \\\n",
       "10                0.0       0.0                                     0.0   \n",
       "20                0.0       0.0                                     0.0   \n",
       "aa                0.0       0.0                                     0.0   \n",
       "aaa               0.0       0.0                                     0.0   \n",
       "aaai              0.0       0.0                                     0.0   \n",
       "aaas              0.0       0.0                                     0.0   \n",
       "aab               0.0       0.0                                     0.0   \n",
       "aachen            0.0       0.0                                     0.0   \n",
       "aai               0.0       0.0                                     0.0   \n",
       "aalborg           0.0       0.0                                     0.0   \n",
       "\n",
       "title    Sy.Med Development  \n",
       "10                      0.0  \n",
       "20                      0.0  \n",
       "aa                      0.0  \n",
       "aaa                     0.0  \n",
       "aaai                    0.0  \n",
       "aaas                    0.0  \n",
       "aab                     0.0  \n",
       "aachen                  0.0  \n",
       "aai                     0.0  \n",
       "aalborg                 0.0  \n",
       "\n",
       "[10 rows x 2000 columns]"
      ]
     },
     "execution_count": 21,
     "metadata": {},
     "output_type": "execute_result"
    }
   ],
   "source": [
    "dtm_df.T.head(10)"
   ]
  },
  {
   "cell_type": "code",
   "execution_count": 22,
   "metadata": {},
   "outputs": [
    {
     "data": {
      "text/plain": [
       "(2000, 16450)"
      ]
     },
     "execution_count": 22,
     "metadata": {},
     "output_type": "execute_result"
    }
   ],
   "source": [
    "dtm_df.shape"
   ]
  },
  {
   "cell_type": "markdown",
   "metadata": {},
   "source": [
    "### Compute SVD matrix"
   ]
  },
  {
   "cell_type": "code",
   "execution_count": 23,
   "metadata": {},
   "outputs": [],
   "source": [
    "n_components = 200\n",
    "svd_v = TruncatedSVD(n_components)\n",
    "component_names = [\"component_\"+str(i+1) for i in range(n_components)]"
   ]
  },
  {
   "cell_type": "code",
   "execution_count": 24,
   "metadata": {},
   "outputs": [
    {
     "name": "stdout",
     "output_type": "stream",
     "text": [
      "CPU times: user 7.84 s, sys: 2.01 s, total: 9.85 s\n",
      "Wall time: 2.64 s\n"
     ]
    }
   ],
   "source": [
    "%%time\n",
    "svdm = svd_v.fit_transform(dtm_df)"
   ]
  },
  {
   "cell_type": "code",
   "execution_count": 25,
   "metadata": {},
   "outputs": [
    {
     "data": {
      "text/plain": [
       "0.37878313725823798"
      ]
     },
     "execution_count": 25,
     "metadata": {},
     "output_type": "execute_result"
    }
   ],
   "source": [
    "sum(svd_v.explained_variance_ratio_)"
   ]
  },
  {
   "cell_type": "code",
   "execution_count": 26,
   "metadata": {},
   "outputs": [
    {
     "data": {
      "text/plain": [
       "<Container object of 200 artists>"
      ]
     },
     "execution_count": 26,
     "metadata": {},
     "output_type": "execute_result"
    },
    {
     "data": {
      "image/png": "[encoded data removed]",
      "text/plain": [
       "<matplotlib.figure.Figure at 0x7fdd416194e0>"
      ]
     },
     "metadata": {},
     "output_type": "display_data"
    }
   ],
   "source": [
    "plt.bar(range(n_components), svd_v.explained_variance_ratio_)"
   ]
  },
  {
   "cell_type": "code",
   "execution_count": 27,
   "metadata": {},
   "outputs": [],
   "source": [
    "lsa = pd.DataFrame(svdm,index=dtm_df.index,columns=component_names)\n",
    "lsa['extract'] = corpus_df.extract\n",
    "lsa['pageid'] = corpus_df.pageid"
   ]
  },
  {
   "cell_type": "code",
   "execution_count": 28,
   "metadata": {},
   "outputs": [
    {
     "data": {
      "text/html": [
       "<div>\n",
       "<table border=\"1\" class=\"dataframe\">\n",
       "  <thead>\n",
       "    <tr style=\"text-align: right;\">\n",
       "      <th></th>\n",
       "      <th>component_1</th>\n",
       "      <th>component_2</th>\n",
       "      <th>component_3</th>\n",
       "      <th>component_4</th>\n",
       "      <th>component_5</th>\n",
       "      <th>component_6</th>\n",
       "      <th>component_7</th>\n",
       "      <th>component_8</th>\n",
       "      <th>component_9</th>\n",
       "      <th>component_10</th>\n",
       "      <th>...</th>\n",
       "      <th>component_193</th>\n",
       "      <th>component_194</th>\n",
       "      <th>component_195</th>\n",
       "      <th>component_196</th>\n",
       "      <th>component_197</th>\n",
       "      <th>component_198</th>\n",
       "      <th>component_199</th>\n",
       "      <th>component_200</th>\n",
       "      <th>extract</th>\n",
       "      <th>pageid</th>\n",
       "    </tr>\n",
       "    <tr>\n",
       "      <th>title</th>\n",
       "      <th></th>\n",
       "      <th></th>\n",
       "      <th></th>\n",
       "      <th></th>\n",
       "      <th></th>\n",
       "      <th></th>\n",
       "      <th></th>\n",
       "      <th></th>\n",
       "      <th></th>\n",
       "      <th></th>\n",
       "      <th></th>\n",
       "      <th></th>\n",
       "      <th></th>\n",
       "      <th></th>\n",
       "      <th></th>\n",
       "      <th></th>\n",
       "      <th></th>\n",
       "      <th></th>\n",
       "      <th></th>\n",
       "      <th></th>\n",
       "      <th></th>\n",
       "    </tr>\n",
       "  </thead>\n",
       "  <tbody>\n",
       "    <tr>\n",
       "      <th>Data exploration</th>\n",
       "      <td>0.293488</td>\n",
       "      <td>0.055921</td>\n",
       "      <td>-0.083575</td>\n",
       "      <td>0.050645</td>\n",
       "      <td>0.104846</td>\n",
       "      <td>-0.100178</td>\n",
       "      <td>-0.064506</td>\n",
       "      <td>-0.035661</td>\n",
       "      <td>-0.166552</td>\n",
       "      <td>-0.072940</td>\n",
       "      <td>...</td>\n",
       "      <td>-0.017729</td>\n",
       "      <td>0.018882</td>\n",
       "      <td>-0.010082</td>\n",
       "      <td>-0.002121</td>\n",
       "      <td>-0.042671</td>\n",
       "      <td>0.006279</td>\n",
       "      <td>-0.016642</td>\n",
       "      <td>0.002731</td>\n",
       "      <td>data exploration approach similar initial datu...</td>\n",
       "      <td>43385931</td>\n",
       "    </tr>\n",
       "    <tr>\n",
       "      <th>List of datasets for machine learning research</th>\n",
       "      <td>0.268562</td>\n",
       "      <td>0.119507</td>\n",
       "      <td>-0.008513</td>\n",
       "      <td>-0.031241</td>\n",
       "      <td>0.105161</td>\n",
       "      <td>-0.100194</td>\n",
       "      <td>-0.133124</td>\n",
       "      <td>-0.042526</td>\n",
       "      <td>-0.146122</td>\n",
       "      <td>-0.047903</td>\n",
       "      <td>...</td>\n",
       "      <td>-0.051758</td>\n",
       "      <td>-0.018290</td>\n",
       "      <td>0.017342</td>\n",
       "      <td>-0.032711</td>\n",
       "      <td>0.032497</td>\n",
       "      <td>-0.027877</td>\n",
       "      <td>0.007498</td>\n",
       "      <td>0.032365</td>\n",
       "      <td>these dataset use machine learn research cite ...</td>\n",
       "      <td>49082762</td>\n",
       "    </tr>\n",
       "    <tr>\n",
       "      <th>Machine learning</th>\n",
       "      <td>0.543668</td>\n",
       "      <td>0.340026</td>\n",
       "      <td>0.020512</td>\n",
       "      <td>-0.177385</td>\n",
       "      <td>0.140669</td>\n",
       "      <td>-0.195899</td>\n",
       "      <td>-0.264942</td>\n",
       "      <td>0.044038</td>\n",
       "      <td>-0.092273</td>\n",
       "      <td>-0.154178</td>\n",
       "      <td>...</td>\n",
       "      <td>0.007076</td>\n",
       "      <td>-0.009464</td>\n",
       "      <td>-0.025944</td>\n",
       "      <td>-0.001303</td>\n",
       "      <td>-0.019018</td>\n",
       "      <td>0.004990</td>\n",
       "      <td>-0.019513</td>\n",
       "      <td>0.031472</td>\n",
       "      <td>machine learn field computer science give comp...</td>\n",
       "      <td>233488</td>\n",
       "    </tr>\n",
       "  </tbody>\n",
       "</table>\n",
       "<p>3 rows × 202 columns</p>\n",
       "</div>"
      ],
      "text/plain": [
       "                                                component_1  component_2  \\\n",
       "title                                                                      \n",
       "Data exploration                                   0.293488     0.055921   \n",
       "List of datasets for machine learning research     0.268562     0.119507   \n",
       "Machine learning                                   0.543668     0.340026   \n",
       "\n",
       "                                                component_3  component_4  \\\n",
       "title                                                                      \n",
       "Data exploration                                  -0.083575     0.050645   \n",
       "List of datasets for machine learning research    -0.008513    -0.031241   \n",
       "Machine learning                                   0.020512    -0.177385   \n",
       "\n",
       "                                                component_5  component_6  \\\n",
       "title                                                                      \n",
       "Data exploration                                   0.104846    -0.100178   \n",
       "List of datasets for machine learning research     0.105161    -0.100194   \n",
       "Machine learning                                   0.140669    -0.195899   \n",
       "\n",
       "                                                component_7  component_8  \\\n",
       "title                                                                      \n",
       "Data exploration                                  -0.064506    -0.035661   \n",
       "List of datasets for machine learning research    -0.133124    -0.042526   \n",
       "Machine learning                                  -0.264942     0.044038   \n",
       "\n",
       "                                                component_9  component_10  \\\n",
       "title                                                                       \n",
       "Data exploration                                  -0.166552     -0.072940   \n",
       "List of datasets for machine learning research    -0.146122     -0.047903   \n",
       "Machine learning                                  -0.092273     -0.154178   \n",
       "\n",
       "                                                  ...     component_193  \\\n",
       "title                                             ...                     \n",
       "Data exploration                                  ...         -0.017729   \n",
       "List of datasets for machine learning research    ...         -0.051758   \n",
       "Machine learning                                  ...          0.007076   \n",
       "\n",
       "                                                component_194  component_195  \\\n",
       "title                                                                          \n",
       "Data exploration                                     0.018882      -0.010082   \n",
       "List of datasets for machine learning research      -0.018290       0.017342   \n",
       "Machine learning                                    -0.009464      -0.025944   \n",
       "\n",
       "                                                component_196  component_197  \\\n",
       "title                                                                          \n",
       "Data exploration                                    -0.002121      -0.042671   \n",
       "List of datasets for machine learning research      -0.032711       0.032497   \n",
       "Machine learning                                    -0.001303      -0.019018   \n",
       "\n",
       "                                                component_198  component_199  \\\n",
       "title                                                                          \n",
       "Data exploration                                     0.006279      -0.016642   \n",
       "List of datasets for machine learning research      -0.027877       0.007498   \n",
       "Machine learning                                     0.004990      -0.019513   \n",
       "\n",
       "                                                component_200  \\\n",
       "title                                                           \n",
       "Data exploration                                     0.002731   \n",
       "List of datasets for machine learning research       0.032365   \n",
       "Machine learning                                     0.031472   \n",
       "\n",
       "                                                                                          extract  \\\n",
       "title                                                                                               \n",
       "Data exploration                                data exploration approach similar initial datu...   \n",
       "List of datasets for machine learning research  these dataset use machine learn research cite ...   \n",
       "Machine learning                                machine learn field computer science give comp...   \n",
       "\n",
       "                                                  pageid  \n",
       "title                                                     \n",
       "Data exploration                                43385931  \n",
       "List of datasets for machine learning research  49082762  \n",
       "Machine learning                                  233488  \n",
       "\n",
       "[3 rows x 202 columns]"
      ]
     },
     "execution_count": 28,
     "metadata": {},
     "output_type": "execute_result"
    }
   ],
   "source": [
    "lsa.head(3)"
   ]
  },
  {
   "cell_type": "code",
   "execution_count": 29,
   "metadata": {},
   "outputs": [
    {
     "name": "stdout",
     "output_type": "stream",
     "text": [
      "<class 'pandas.core.frame.DataFrame'>\n",
      "Index: 2000 entries, Data exploration to Sy.Med Development\n",
      "Columns: 202 entries, component_1 to pageid\n",
      "dtypes: float64(200), int64(1), object(1)\n",
      "memory usage: 3.1+ MB\n"
     ]
    }
   ],
   "source": [
    "lsa.info()"
   ]
  },
  {
   "cell_type": "code",
   "execution_count": 30,
   "metadata": {},
   "outputs": [],
   "source": [
    "comp_features = pd.DataFrame(svd_v.components_,index=component_names,columns=tfidf_v.get_feature_names()).T"
   ]
  },
  {
   "cell_type": "markdown",
   "metadata": {},
   "source": [
    "### Look at feature breakdown of components\n",
    "Lots of numbers, and symbols - need to remove"
   ]
  },
  {
   "cell_type": "code",
   "execution_count": 31,
   "metadata": {},
   "outputs": [],
   "source": [
    "# Feature breakdown of componentes\n",
    "top_20={}\n",
    "for i in range(1,20):\n",
    "    comp_features['abs_component_{}'.format(i)] = np.abs(comp_features['component_{}'.format(i)])"
   ]
  },
  {
   "cell_type": "code",
   "execution_count": 32,
   "metadata": {},
   "outputs": [
    {
     "data": {
      "text/plain": [
       "learn         0.167438\n",
       "use           0.166203\n",
       "datum         0.162498\n",
       "software      0.160104\n",
       "model         0.155730\n",
       "algorithm     0.146011\n",
       "network       0.131589\n",
       "management    0.129409\n",
       "game          0.127864\n",
       "pron          0.119520\n",
       "company       0.117530\n",
       "business      0.113426\n",
       "function      0.098043\n",
       "neural        0.097220\n",
       "base          0.092395\n",
       "cluster       0.091220\n",
       "conjurer      0.087415\n",
       "machine       0.086201\n",
       "train         0.084537\n",
       "set           0.084060\n",
       "Name: abs_component_1, dtype: float64"
      ]
     },
     "execution_count": 32,
     "metadata": {},
     "output_type": "execute_result"
    }
   ],
   "source": [
    "comp_features['abs_component_1'].sort_values(ascending=False).head(20)"
   ]
  },
  {
   "cell_type": "markdown",
   "metadata": {},
   "source": [
    "## Search process\n",
    "\n",
    "1. input search term and vectorize using fitted TFIDF\n",
    "2. Append search term to the DTM -> augmented DTM\n",
    "3. SVD fit & transform on augemented DTM - > updated components\n",
    "4. identify index for search term vector in svd matrix\n",
    "5. Use cosine similarity to find most similar vectors in svd matrix"
   ]
  },
  {
   "cell_type": "code",
   "execution_count": 33,
   "metadata": {},
   "outputs": [],
   "source": [
    "search_term='random forests'"
   ]
  },
  {
   "cell_type": "code",
   "execution_count": 34,
   "metadata": {},
   "outputs": [],
   "source": [
    "s_term=[search_term]\n",
    "\n",
    "#vectorize search term with TFIDF vectorizer (previously fitted)\n",
    "s_term_encoded=tfidf_v.transform(s_term)\n",
    "s_term_encoded_df = pd.DataFrame(s_term_encoded.toarray(), \n",
    "                                   index=['search_term'], \n",
    "                                   columns=tfidf_v.get_feature_names())"
   ]
  },
  {
   "cell_type": "code",
   "execution_count": 35,
   "metadata": {},
   "outputs": [
    {
     "data": {
      "text/html": [
       "<div>\n",
       "<table border=\"1\" class=\"dataframe\">\n",
       "  <thead>\n",
       "    <tr style=\"text-align: right;\">\n",
       "      <th></th>\n",
       "      <th>10</th>\n",
       "      <th>20</th>\n",
       "      <th>aa</th>\n",
       "      <th>aaa</th>\n",
       "      <th>aaai</th>\n",
       "      <th>aaas</th>\n",
       "      <th>aab</th>\n",
       "      <th>aachen</th>\n",
       "      <th>aai</th>\n",
       "      <th>aalborg</th>\n",
       "      <th>...</th>\n",
       "      <th>zope</th>\n",
       "      <th>zoubin</th>\n",
       "      <th>zquez</th>\n",
       "      <th>zu</th>\n",
       "      <th>zuben</th>\n",
       "      <th>zupan</th>\n",
       "      <th>zur</th>\n",
       "      <th>zurada</th>\n",
       "      <th>zurich</th>\n",
       "      <th>zx</th>\n",
       "    </tr>\n",
       "  </thead>\n",
       "  <tbody>\n",
       "    <tr>\n",
       "      <th>search_term</th>\n",
       "      <td>0.0</td>\n",
       "      <td>0.0</td>\n",
       "      <td>0.0</td>\n",
       "      <td>0.0</td>\n",
       "      <td>0.0</td>\n",
       "      <td>0.0</td>\n",
       "      <td>0.0</td>\n",
       "      <td>0.0</td>\n",
       "      <td>0.0</td>\n",
       "      <td>0.0</td>\n",
       "      <td>...</td>\n",
       "      <td>0.0</td>\n",
       "      <td>0.0</td>\n",
       "      <td>0.0</td>\n",
       "      <td>0.0</td>\n",
       "      <td>0.0</td>\n",
       "      <td>0.0</td>\n",
       "      <td>0.0</td>\n",
       "      <td>0.0</td>\n",
       "      <td>0.0</td>\n",
       "      <td>0.0</td>\n",
       "    </tr>\n",
       "  </tbody>\n",
       "</table>\n",
       "<p>1 rows × 16450 columns</p>\n",
       "</div>"
      ],
      "text/plain": [
       "              10   20   aa  aaa  aaai  aaas  aab  aachen  aai  aalborg ...   \\\n",
       "search_term  0.0  0.0  0.0  0.0   0.0   0.0  0.0     0.0  0.0      0.0 ...    \n",
       "\n",
       "             zope  zoubin  zquez   zu  zuben  zupan  zur  zurada  zurich   zx  \n",
       "search_term   0.0     0.0    0.0  0.0    0.0    0.0  0.0     0.0     0.0  0.0  \n",
       "\n",
       "[1 rows x 16450 columns]"
      ]
     },
     "execution_count": 35,
     "metadata": {},
     "output_type": "execute_result"
    }
   ],
   "source": [
    "s_term_encoded_df"
   ]
  },
  {
   "cell_type": "code",
   "execution_count": 36,
   "metadata": {},
   "outputs": [],
   "source": [
    "dtma_df=()"
   ]
  },
  {
   "cell_type": "code",
   "execution_count": 37,
   "metadata": {},
   "outputs": [
    {
     "name": "stdout",
     "output_type": "stream",
     "text": [
      "CPU times: user 10 ms, sys: 80 ms, total: 90 ms\n",
      "Wall time: 89.7 ms\n"
     ]
    }
   ],
   "source": [
    "%%time\n",
    "#add to existing document term matrix\n",
    "dtma_df=dtm_df.append(s_term_encoded_df)"
   ]
  },
  {
   "cell_type": "code",
   "execution_count": 38,
   "metadata": {},
   "outputs": [
    {
     "data": {
      "text/plain": [
       "(2001, 16450)"
      ]
     },
     "execution_count": 38,
     "metadata": {},
     "output_type": "execute_result"
    }
   ],
   "source": [
    "dtma_df.shape"
   ]
  },
  {
   "cell_type": "code",
   "execution_count": 39,
   "metadata": {},
   "outputs": [
    {
     "name": "stdout",
     "output_type": "stream",
     "text": [
      "CPU times: user 7.98 s, sys: 2.1 s, total: 10.1 s\n",
      "Wall time: 2.66 s\n"
     ]
    }
   ],
   "source": [
    "%%time\n",
    "#re fit SVD to augmented document term matrix\n",
    "component_names = [\"component_\"+str(i+1) for i in range(svd_v.n_components)]\n",
    "svdma=svd_v.fit_transform(dtma_df)\n",
    "svdma_df=pd.DataFrame(svdma,index=dtma_df.index,columns=component_names)"
   ]
  },
  {
   "cell_type": "code",
   "execution_count": 40,
   "metadata": {},
   "outputs": [],
   "source": [
    "#find index of search term in refit SVD matrix\n",
    "s_term_svd_vector=svdma_df.loc['search_term',:].values.reshape(1,-1)"
   ]
  },
  {
   "cell_type": "code",
   "execution_count": 41,
   "metadata": {},
   "outputs": [],
   "source": [
    "#calculate cosine similarty of search term against other SVD vectors\n",
    "svdma_df['cosine_sim'] = cosine_similarity(svdma_df, s_term_svd_vector)"
   ]
  },
  {
   "cell_type": "code",
   "execution_count": 42,
   "metadata": {},
   "outputs": [
    {
     "name": "stdout",
     "output_type": "stream",
     "text": [
      "top 20 wiki pages that are related to search term = ['random forests']\n"
     ]
    },
    {
     "data": {
      "text/html": [
       "<div>\n",
       "<table border=\"1\" class=\"dataframe\">\n",
       "  <thead>\n",
       "    <tr style=\"text-align: right;\">\n",
       "      <th></th>\n",
       "      <th>cosine_sim</th>\n",
       "    </tr>\n",
       "  </thead>\n",
       "  <tbody>\n",
       "    <tr>\n",
       "      <th>search_term</th>\n",
       "      <td>1.000000</td>\n",
       "    </tr>\n",
       "    <tr>\n",
       "      <th>Random indexing</th>\n",
       "      <td>0.677873</td>\n",
       "    </tr>\n",
       "    <tr>\n",
       "      <th>Random projection</th>\n",
       "      <td>0.555238</td>\n",
       "    </tr>\n",
       "    <tr>\n",
       "      <th>Clustering illusion</th>\n",
       "      <td>0.482847</td>\n",
       "    </tr>\n",
       "    <tr>\n",
       "      <th>Random forest</th>\n",
       "      <td>0.448613</td>\n",
       "    </tr>\n",
       "    <tr>\n",
       "      <th>Out-of-bag error</th>\n",
       "      <td>0.422294</td>\n",
       "    </tr>\n",
       "    <tr>\n",
       "      <th>Random subspace method</th>\n",
       "      <td>0.413287</td>\n",
       "    </tr>\n",
       "    <tr>\n",
       "      <th>Markov random field</th>\n",
       "      <td>0.392569</td>\n",
       "    </tr>\n",
       "    <tr>\n",
       "      <th>Cuckoo search</th>\n",
       "      <td>0.367007</td>\n",
       "    </tr>\n",
       "    <tr>\n",
       "      <th>Hidden Markov random field</th>\n",
       "      <td>0.366369</td>\n",
       "    </tr>\n",
       "  </tbody>\n",
       "</table>\n",
       "</div>"
      ],
      "text/plain": [
       "                            cosine_sim\n",
       "search_term                   1.000000\n",
       "Random indexing               0.677873\n",
       "Random projection             0.555238\n",
       "Clustering illusion           0.482847\n",
       "Random forest                 0.448613\n",
       "Out-of-bag error              0.422294\n",
       "Random subspace method        0.413287\n",
       "Markov random field           0.392569\n",
       "Cuckoo search                 0.367007\n",
       "Hidden Markov random field    0.366369"
      ]
     },
     "execution_count": 42,
     "metadata": {},
     "output_type": "execute_result"
    }
   ],
   "source": [
    "print('top 20 wiki pages that are related to search term = {}'.format(s_term))\n",
    "svdma_df[['cosine_sim']].sort_values('cosine_sim', ascending=False).head(10)\n",
    "    "
   ]
  },
  {
   "cell_type": "code",
   "execution_count": null,
   "metadata": {},
   "outputs": [],
   "source": []
  }
 ],
 "metadata": {
  "kernelspec": {
   "display_name": "Python 3",
   "language": "python",
   "name": "python3"
  },
  "language_info": {
   "codemirror_mode": {
    "name": "ipython",
    "version": 3
   },
   "file_extension": ".py",
   "mimetype": "text/x-python",
   "name": "python",
   "nbconvert_exporter": "python",
   "pygments_lexer": "ipython3",
   "version": "3.6.3"
  }
 },
 "nbformat": 4,
 "nbformat_minor": 2
}
