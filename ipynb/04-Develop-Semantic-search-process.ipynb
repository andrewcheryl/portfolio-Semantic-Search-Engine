{
 "cells": [
  {
   "cell_type": "code",
   "execution_count": 3,
   "metadata": {},
   "outputs": [
    {
     "name": "stdout",
     "output_type": "stream",
     "text": [
      "/home/jovyan/dsi_plus/Projects/Project-4-semantic_search\n"
     ]
    }
   ],
   "source": [
    "cd .."
   ]
  },
  {
   "cell_type": "code",
   "execution_count": 4,
   "metadata": {},
   "outputs": [],
   "source": [
    "%run lib/__init__.py\n",
    "%matplotlib inline"
   ]
  },
  {
   "cell_type": "markdown",
   "metadata": {},
   "source": [
    "# Project 4 - Semantic Search\n",
    "\n",
    "## Latent Semantic search - model development\n",
    "\n",
    " - build corpus\n",
    " - vectorize with tfidf\n",
    " - reduce dimmenions with SVD\n",
    " - explore features -> amend data by cleaning and iterate from corpus build process\n",
    " - build search function\n",
    "\n",
    "Restrict model development process to pagetest collection so that dtm and svd components and be visualied in dataframe , but recognize that the total data set will be >5000 pages and will be too much data for kernal memory if dtm loaded into a dataframe ( tried this and  kept crashing kernel). \n",
    "For production model dtm and svd data will be kept in a sparse matrix until final step."
   ]
  },
  {
   "cell_type": "markdown",
   "metadata": {},
   "source": [
    "## Load articles from 'pagestest' collection MongoDB and create ' corpus ' for search engine\n",
    "If load fails..\n",
    " - check AWS instance on which DB is hosted is running and that the docker container for Mongo is runnning\n",
    " - check ip address for server hosting  Mongo DB (stored in wiki_api.py)"
   ]
  },
  {
   "cell_type": "code",
   "execution_count": 5,
   "metadata": {},
   "outputs": [],
   "source": [
    "myWiki=MyWikiDB()"
   ]
  },
  {
   "cell_type": "code",
   "execution_count": 6,
   "metadata": {},
   "outputs": [],
   "source": [
    "cat_loaded_cllr=myWiki.dbr.loads_collection"
   ]
  },
  {
   "cell_type": "code",
   "execution_count": 7,
   "metadata": {},
   "outputs": [
    {
     "data": {
      "text/html": [
       "<div>\n",
       "<table border=\"1\" class=\"dataframe\">\n",
       "  <thead>\n",
       "    <tr style=\"text-align: right;\">\n",
       "      <th></th>\n",
       "      <th>_id</th>\n",
       "      <th>loaded</th>\n",
       "      <th>master_cat</th>\n",
       "      <th>sub_cats_added</th>\n",
       "    </tr>\n",
       "  </thead>\n",
       "  <tbody>\n",
       "    <tr>\n",
       "      <th>0</th>\n",
       "      <td>5a691422cd7a8902503aa27f</td>\n",
       "      <td>Wed Jan 24 23:17:54 2018</td>\n",
       "      <td>Category:Classification algorithms</td>\n",
       "      <td>5</td>\n",
       "    </tr>\n",
       "    <tr>\n",
       "      <th>1</th>\n",
       "      <td>5a6a160fcd7a8900a1f84969</td>\n",
       "      <td>Thu Jan 25 17:38:23 2018</td>\n",
       "      <td>Category:Classification algorithms</td>\n",
       "      <td>0</td>\n",
       "    </tr>\n",
       "  </tbody>\n",
       "</table>\n",
       "</div>"
      ],
      "text/plain": [
       "                        _id                    loaded  \\\n",
       "0  5a691422cd7a8902503aa27f  Wed Jan 24 23:17:54 2018   \n",
       "1  5a6a160fcd7a8900a1f84969  Thu Jan 25 17:38:23 2018   \n",
       "\n",
       "                           master_cat  sub_cats_added  \n",
       "0  Category:Classification algorithms               5  \n",
       "1  Category:Classification algorithms               0  "
      ]
     },
     "execution_count": 7,
     "metadata": {},
     "output_type": "execute_result"
    }
   ],
   "source": [
    "#Load history - check which categories loaded \n",
    "cursor=cat_loaded_cllr.find()\n",
    "loaded=list(cursor)\n",
    "pd.DataFrame(loaded)"
   ]
  },
  {
   "cell_type": "code",
   "execution_count": 8,
   "metadata": {},
   "outputs": [],
   "source": [
    "pagestest_cllr=myWiki.dbr.pagetest_collection"
   ]
  },
  {
   "cell_type": "code",
   "execution_count": 9,
   "metadata": {},
   "outputs": [
    {
     "name": "stdout",
     "output_type": "stream",
     "text": [
      "No. of pages loaded = 255\n"
     ]
    }
   ],
   "source": [
    "print('No. of pages loaded = {}'.format(pagestest_cllr.find().count()))"
   ]
  },
  {
   "cell_type": "code",
   "execution_count": 10,
   "metadata": {},
   "outputs": [],
   "source": [
    "cursor=pagestest_cllr.find()\n",
    "pages=list(cursor)"
   ]
  },
  {
   "cell_type": "code",
   "execution_count": 11,
   "metadata": {},
   "outputs": [
    {
     "data": {
      "text/html": [
       "<div>\n",
       "<table border=\"1\" class=\"dataframe\">\n",
       "  <thead>\n",
       "    <tr style=\"text-align: right;\">\n",
       "      <th></th>\n",
       "      <th>_id</th>\n",
       "      <th>category_list</th>\n",
       "      <th>extract</th>\n",
       "      <th>ns</th>\n",
       "      <th>pageid</th>\n",
       "      <th>pull_category</th>\n",
       "      <th>title</th>\n",
       "    </tr>\n",
       "  </thead>\n",
       "  <tbody>\n",
       "    <tr>\n",
       "      <th>0</th>\n",
       "      <td>32003319</td>\n",
       "      <td>[Category:Algorithms and data structures stubs...</td>\n",
       "      <td>approximate near neighbor search special case ...</td>\n",
       "      <td>0</td>\n",
       "      <td>32003319</td>\n",
       "      <td>Category:Classification algorithms</td>\n",
       "      <td>(1+ε)-approximate nearest neighbor search</td>\n",
       "    </tr>\n",
       "    <tr>\n",
       "      <th>1</th>\n",
       "      <td>740955</td>\n",
       "      <td>[Category:Classification algorithms, Category:...</td>\n",
       "      <td>two main use term calibration statistic denote...</td>\n",
       "      <td>0</td>\n",
       "      <td>740955</td>\n",
       "      <td>Category:Classification algorithms</td>\n",
       "      <td>Calibration (statistics)</td>\n",
       "    </tr>\n",
       "    <tr>\n",
       "      <th>2</th>\n",
       "      <td>843901</td>\n",
       "      <td>[Category:Classification algorithms]</td>\n",
       "      <td>soft independent model class analogy simca sta...</td>\n",
       "      <td>0</td>\n",
       "      <td>843901</td>\n",
       "      <td>Category:Classification algorithms</td>\n",
       "      <td>Soft independent modelling of class analogies</td>\n",
       "    </tr>\n",
       "    <tr>\n",
       "      <th>3</th>\n",
       "      <td>1579244</td>\n",
       "      <td>[Category:All articles lacking in-text citatio...</td>\n",
       "      <td>machine learn statistic classification problem...</td>\n",
       "      <td>0</td>\n",
       "      <td>1579244</td>\n",
       "      <td>Category:Classification algorithms</td>\n",
       "      <td>Statistical classification</td>\n",
       "    </tr>\n",
       "    <tr>\n",
       "      <th>4</th>\n",
       "      <td>27156903</td>\n",
       "      <td>[Category:Classification algorithms, Category:...</td>\n",
       "      <td>statistic adaptive variable bandwidth kernel d...</td>\n",
       "      <td>0</td>\n",
       "      <td>27156903</td>\n",
       "      <td>Category:Classification algorithms</td>\n",
       "      <td>Variable kernel density estimation</td>\n",
       "    </tr>\n",
       "  </tbody>\n",
       "</table>\n",
       "</div>"
      ],
      "text/plain": [
       "        _id                                      category_list  \\\n",
       "0  32003319  [Category:Algorithms and data structures stubs...   \n",
       "1    740955  [Category:Classification algorithms, Category:...   \n",
       "2    843901               [Category:Classification algorithms]   \n",
       "3   1579244  [Category:All articles lacking in-text citatio...   \n",
       "4  27156903  [Category:Classification algorithms, Category:...   \n",
       "\n",
       "                                             extract  ns    pageid  \\\n",
       "0  approximate near neighbor search special case ...   0  32003319   \n",
       "1  two main use term calibration statistic denote...   0    740955   \n",
       "2  soft independent model class analogy simca sta...   0    843901   \n",
       "3  machine learn statistic classification problem...   0   1579244   \n",
       "4  statistic adaptive variable bandwidth kernel d...   0  27156903   \n",
       "\n",
       "                        pull_category  \\\n",
       "0  Category:Classification algorithms   \n",
       "1  Category:Classification algorithms   \n",
       "2  Category:Classification algorithms   \n",
       "3  Category:Classification algorithms   \n",
       "4  Category:Classification algorithms   \n",
       "\n",
       "                                           title  \n",
       "0      (1+ε)-approximate nearest neighbor search  \n",
       "1                       Calibration (statistics)  \n",
       "2  Soft independent modelling of class analogies  \n",
       "3                     Statistical classification  \n",
       "4             Variable kernel density estimation  "
      ]
     },
     "execution_count": 11,
     "metadata": {},
     "output_type": "execute_result"
    }
   ],
   "source": [
    "corpus_df=pd.DataFrame(pages[:1000])\n",
    "corpus_df.head()"
   ]
  },
  {
   "cell_type": "code",
   "execution_count": 12,
   "metadata": {},
   "outputs": [],
   "source": [
    "#Remove unnecessary columns\n",
    "columns_to_drop=['ns', 'category_list','pull_category', '_id']\n",
    "corpus_df.drop(columns_to_drop, axis=1, inplace=True)"
   ]
  },
  {
   "cell_type": "code",
   "execution_count": 13,
   "metadata": {},
   "outputs": [],
   "source": [
    "corpus_df.set_index('title', inplace=True)"
   ]
  },
  {
   "cell_type": "code",
   "execution_count": 14,
   "metadata": {
    "scrolled": true
   },
   "outputs": [
    {
     "data": {
      "text/html": [
       "<div>\n",
       "<table border=\"1\" class=\"dataframe\">\n",
       "  <thead>\n",
       "    <tr style=\"text-align: right;\">\n",
       "      <th></th>\n",
       "      <th>extract</th>\n",
       "      <th>pageid</th>\n",
       "    </tr>\n",
       "    <tr>\n",
       "      <th>title</th>\n",
       "      <th></th>\n",
       "      <th></th>\n",
       "    </tr>\n",
       "  </thead>\n",
       "  <tbody>\n",
       "    <tr>\n",
       "      <th>(1+ε)-approximate nearest neighbor search</th>\n",
       "      <td>approximate near neighbor search special case ...</td>\n",
       "      <td>32003319</td>\n",
       "    </tr>\n",
       "    <tr>\n",
       "      <th>Calibration (statistics)</th>\n",
       "      <td>two main use term calibration statistic denote...</td>\n",
       "      <td>740955</td>\n",
       "    </tr>\n",
       "    <tr>\n",
       "      <th>Soft independent modelling of class analogies</th>\n",
       "      <td>soft independent model class analogy simca sta...</td>\n",
       "      <td>843901</td>\n",
       "    </tr>\n",
       "    <tr>\n",
       "      <th>Statistical classification</th>\n",
       "      <td>machine learn statistic classification problem...</td>\n",
       "      <td>1579244</td>\n",
       "    </tr>\n",
       "    <tr>\n",
       "      <th>Variable kernel density estimation</th>\n",
       "      <td>statistic adaptive variable bandwidth kernel d...</td>\n",
       "      <td>27156903</td>\n",
       "    </tr>\n",
       "  </tbody>\n",
       "</table>\n",
       "</div>"
      ],
      "text/plain": [
       "                                                                                         extract  \\\n",
       "title                                                                                              \n",
       "(1+ε)-approximate nearest neighbor search      approximate near neighbor search special case ...   \n",
       "Calibration (statistics)                       two main use term calibration statistic denote...   \n",
       "Soft independent modelling of class analogies  soft independent model class analogy simca sta...   \n",
       "Statistical classification                     machine learn statistic classification problem...   \n",
       "Variable kernel density estimation             statistic adaptive variable bandwidth kernel d...   \n",
       "\n",
       "                                                 pageid  \n",
       "title                                                    \n",
       "(1+ε)-approximate nearest neighbor search      32003319  \n",
       "Calibration (statistics)                         740955  \n",
       "Soft independent modelling of class analogies    843901  \n",
       "Statistical classification                      1579244  \n",
       "Variable kernel density estimation             27156903  "
      ]
     },
     "execution_count": 14,
     "metadata": {},
     "output_type": "execute_result"
    }
   ],
   "source": [
    "corpus_df.head()"
   ]
  },
  {
   "cell_type": "code",
   "execution_count": 15,
   "metadata": {},
   "outputs": [
    {
     "name": "stdout",
     "output_type": "stream",
     "text": [
      "<class 'pandas.core.frame.DataFrame'>\n",
      "Index: 255 entries, (1+ε)-approximate nearest neighbor search to Wolfram Language\n",
      "Data columns (total 2 columns):\n",
      "extract    255 non-null object\n",
      "pageid     255 non-null int64\n",
      "dtypes: int64(1), object(1)\n",
      "memory usage: 6.0+ KB\n"
     ]
    }
   ],
   "source": [
    "corpus_df.info()"
   ]
  },
  {
   "cell_type": "markdown",
   "metadata": {},
   "source": [
    "## Abreviations to use in code\n",
    "* dtm = document term matrix\n",
    "* dtma= augmented document term matrix - including search term\n",
    "* sp = sparse as apposed to df = dataframe\n",
    "* svdm= singular value decomposition matrix  - by component\n",
    "* svdma= singular value decomposition augmented matrix  - including search term\n",
    "* tfidf_v= TFiDF Vectorizer\n",
    "* svd_v= svd vectorizer\n",
    "* lsa= Latent Semantic Analysis\n",
    "* sterm= search term"
   ]
  },
  {
   "cell_type": "markdown",
   "metadata": {},
   "source": [
    "### Label encode the title"
   ]
  },
  {
   "cell_type": "code",
   "execution_count": 14,
   "metadata": {},
   "outputs": [],
   "source": [
    "from sklearn.preprocessing import LabelEncoder\n",
    "from sklearn.feature_extraction.text import TfidfVectorizer\n",
    "from sklearn.decomposition import TruncatedSVD\n",
    "from sklearn.metrics.pairwise import cosine_similarity\n",
    "from sklearn.pipeline import Pipeline"
   ]
  },
  {
   "cell_type": "code",
   "execution_count": 15,
   "metadata": {},
   "outputs": [],
   "source": [
    "le=LabelEncoder()\n",
    "corpus_df['title_numerical'] = le.fit_transform(corpus_df.index)"
   ]
  },
  {
   "cell_type": "code",
   "execution_count": 16,
   "metadata": {},
   "outputs": [
    {
     "data": {
      "text/html": [
       "<div>\n",
       "<table border=\"1\" class=\"dataframe\">\n",
       "  <thead>\n",
       "    <tr style=\"text-align: right;\">\n",
       "      <th></th>\n",
       "      <th>extract</th>\n",
       "      <th>pageid</th>\n",
       "      <th>title_numerical</th>\n",
       "    </tr>\n",
       "    <tr>\n",
       "      <th>title</th>\n",
       "      <th></th>\n",
       "      <th></th>\n",
       "      <th></th>\n",
       "    </tr>\n",
       "  </thead>\n",
       "  <tbody>\n",
       "    <tr>\n",
       "      <th>(1+ε)-approximate nearest neighbor search</th>\n",
       "      <td>approximate near neighbor search special case ...</td>\n",
       "      <td>32003319</td>\n",
       "      <td>0</td>\n",
       "    </tr>\n",
       "    <tr>\n",
       "      <th>Calibration (statistics)</th>\n",
       "      <td>two main use term calibration statistic denote...</td>\n",
       "      <td>740955</td>\n",
       "      <td>32</td>\n",
       "    </tr>\n",
       "    <tr>\n",
       "      <th>Soft independent modelling of class analogies</th>\n",
       "      <td>soft independent model class analogy simca sta...</td>\n",
       "      <td>843901</td>\n",
       "      <td>225</td>\n",
       "    </tr>\n",
       "    <tr>\n",
       "      <th>Statistical classification</th>\n",
       "      <td>machine learn statistic classification problem...</td>\n",
       "      <td>1579244</td>\n",
       "      <td>228</td>\n",
       "    </tr>\n",
       "  </tbody>\n",
       "</table>\n",
       "</div>"
      ],
      "text/plain": [
       "                                                                                         extract  \\\n",
       "title                                                                                              \n",
       "(1+ε)-approximate nearest neighbor search      approximate near neighbor search special case ...   \n",
       "Calibration (statistics)                       two main use term calibration statistic denote...   \n",
       "Soft independent modelling of class analogies  soft independent model class analogy simca sta...   \n",
       "Statistical classification                     machine learn statistic classification problem...   \n",
       "\n",
       "                                                 pageid  title_numerical  \n",
       "title                                                                     \n",
       "(1+ε)-approximate nearest neighbor search      32003319                0  \n",
       "Calibration (statistics)                         740955               32  \n",
       "Soft independent modelling of class analogies    843901              225  \n",
       "Statistical classification                      1579244              228  "
      ]
     },
     "execution_count": 16,
     "metadata": {},
     "output_type": "execute_result"
    }
   ],
   "source": [
    "corpus_df.head(4)"
   ]
  },
  {
   "cell_type": "markdown",
   "metadata": {},
   "source": [
    "### Prepare for Document Term Matrix (DTM)\n",
    "Use TFIDF (Term Frequency x Inverse Document Frequency) to generate document term matrix.\n",
    " - Apply following hyperparatmeters, tests run with different values\n",
    "     - remove 'english' stop words ( this was also done in cleaning proces but on testing resulting size of dtm TFIDF removes addtional stopwords.)\n",
    "     - keep repeating groups of 1 to 2 words  (ngrams)  - tested with and without\n",
    "     - set minimum no. of documents a term must occur in ( min_df ) - tested 1 or 2 "
   ]
  },
  {
   "cell_type": "code",
   "execution_count": 16,
   "metadata": {},
   "outputs": [],
   "source": [
    "#test 1\n",
    "#tfidf_v = TfidfVectorizer(stop_words = 'english', ngram_range=(1,2), min_df=2)"
   ]
  },
  {
   "cell_type": "code",
   "execution_count": 17,
   "metadata": {},
   "outputs": [],
   "source": [
    "#test 2\n",
    "#tfidf_v = TfidfVectorizer(stop_words = 'english', ngram_range=(1,2), min_df=1)"
   ]
  },
  {
   "cell_type": "code",
   "execution_count": 18,
   "metadata": {},
   "outputs": [],
   "source": [
    "#test 3\n",
    "tfidf_v = TfidfVectorizer(stop_words = 'english', min_df=1  )"
   ]
  },
  {
   "cell_type": "code",
   "execution_count": 19,
   "metadata": {},
   "outputs": [
    {
     "name": "stdout",
     "output_type": "stream",
     "text": [
      "CPU times: user 130 ms, sys: 0 ns, total: 130 ms\n",
      "Wall time: 130 ms\n"
     ]
    }
   ],
   "source": [
    "%%time\n",
    "dtm_sp = tfidf_v.fit_transform(corpus_df.extract)"
   ]
  },
  {
   "cell_type": "code",
   "execution_count": 20,
   "metadata": {},
   "outputs": [
    {
     "data": {
      "text/plain": [
       "<255x9409 sparse matrix of type '<class 'numpy.float64'>'\n",
       "\twith 54873 stored elements in Compressed Sparse Row format>"
      ]
     },
     "execution_count": 20,
     "metadata": {},
     "output_type": "execute_result"
    }
   ],
   "source": [
    "dtm_sp"
   ]
  },
  {
   "cell_type": "code",
   "execution_count": 21,
   "metadata": {},
   "outputs": [],
   "source": [
    "dtm_df = pd.DataFrame(dtm_sp.toarray(),\n",
    "                                       index=corpus_df.index,\n",
    "                                       columns=tfidf_v.get_feature_names())"
   ]
  },
  {
   "cell_type": "code",
   "execution_count": 22,
   "metadata": {
    "scrolled": true
   },
   "outputs": [
    {
     "data": {
      "text/html": [
       "<div>\n",
       "<table border=\"1\" class=\"dataframe\">\n",
       "  <thead>\n",
       "    <tr style=\"text-align: right;\">\n",
       "      <th>title</th>\n",
       "      <th>(1+ε)-approximate nearest neighbor search</th>\n",
       "      <th>Calibration (statistics)</th>\n",
       "      <th>Soft independent modelling of class analogies</th>\n",
       "      <th>Statistical classification</th>\n",
       "      <th>Variable kernel density estimation</th>\n",
       "      <th>AdaBoost</th>\n",
       "      <th>ALOPEX</th>\n",
       "      <th>Alternating decision tree</th>\n",
       "      <th>Analogical modeling</th>\n",
       "      <th>Averaged one-dependence estimators</th>\n",
       "      <th>...</th>\n",
       "      <th>Neuro Laboratory</th>\n",
       "      <th>Neuroph</th>\n",
       "      <th>NeuroSolutions</th>\n",
       "      <th>OCRopus</th>\n",
       "      <th>Peltarion Synapse</th>\n",
       "      <th>Picas (app)</th>\n",
       "      <th>Prisma (app)</th>\n",
       "      <th>PSIPRED</th>\n",
       "      <th>SNNS</th>\n",
       "      <th>Wolfram Language</th>\n",
       "    </tr>\n",
       "  </thead>\n",
       "  <tbody>\n",
       "    <tr>\n",
       "      <th>zoom</th>\n",
       "      <td>0.0</td>\n",
       "      <td>0.0</td>\n",
       "      <td>0.0</td>\n",
       "      <td>0.0</td>\n",
       "      <td>0.0</td>\n",
       "      <td>0.0</td>\n",
       "      <td>0.0</td>\n",
       "      <td>0.0</td>\n",
       "      <td>0.0</td>\n",
       "      <td>0.0</td>\n",
       "      <td>...</td>\n",
       "      <td>0.0</td>\n",
       "      <td>0.0</td>\n",
       "      <td>0.0</td>\n",
       "      <td>0.0</td>\n",
       "      <td>0.0</td>\n",
       "      <td>0.0</td>\n",
       "      <td>0.0</td>\n",
       "      <td>0.0</td>\n",
       "      <td>0.0</td>\n",
       "      <td>0.0</td>\n",
       "    </tr>\n",
       "    <tr>\n",
       "      <th>zquez</th>\n",
       "      <td>0.0</td>\n",
       "      <td>0.0</td>\n",
       "      <td>0.0</td>\n",
       "      <td>0.0</td>\n",
       "      <td>0.0</td>\n",
       "      <td>0.0</td>\n",
       "      <td>0.0</td>\n",
       "      <td>0.0</td>\n",
       "      <td>0.0</td>\n",
       "      <td>0.0</td>\n",
       "      <td>...</td>\n",
       "      <td>0.0</td>\n",
       "      <td>0.0</td>\n",
       "      <td>0.0</td>\n",
       "      <td>0.0</td>\n",
       "      <td>0.0</td>\n",
       "      <td>0.0</td>\n",
       "      <td>0.0</td>\n",
       "      <td>0.0</td>\n",
       "      <td>0.0</td>\n",
       "      <td>0.0</td>\n",
       "    </tr>\n",
       "    <tr>\n",
       "      <th>zs</th>\n",
       "      <td>0.0</td>\n",
       "      <td>0.0</td>\n",
       "      <td>0.0</td>\n",
       "      <td>0.0</td>\n",
       "      <td>0.0</td>\n",
       "      <td>0.0</td>\n",
       "      <td>0.0</td>\n",
       "      <td>0.0</td>\n",
       "      <td>0.0</td>\n",
       "      <td>0.0</td>\n",
       "      <td>...</td>\n",
       "      <td>0.0</td>\n",
       "      <td>0.0</td>\n",
       "      <td>0.0</td>\n",
       "      <td>0.0</td>\n",
       "      <td>0.0</td>\n",
       "      <td>0.0</td>\n",
       "      <td>0.0</td>\n",
       "      <td>0.0</td>\n",
       "      <td>0.0</td>\n",
       "      <td>0.0</td>\n",
       "    </tr>\n",
       "    <tr>\n",
       "      <th>zsa</th>\n",
       "      <td>0.0</td>\n",
       "      <td>0.0</td>\n",
       "      <td>0.0</td>\n",
       "      <td>0.0</td>\n",
       "      <td>0.0</td>\n",
       "      <td>0.0</td>\n",
       "      <td>0.0</td>\n",
       "      <td>0.0</td>\n",
       "      <td>0.0</td>\n",
       "      <td>0.0</td>\n",
       "      <td>...</td>\n",
       "      <td>0.0</td>\n",
       "      <td>0.0</td>\n",
       "      <td>0.0</td>\n",
       "      <td>0.0</td>\n",
       "      <td>0.0</td>\n",
       "      <td>0.0</td>\n",
       "      <td>0.0</td>\n",
       "      <td>0.0</td>\n",
       "      <td>0.0</td>\n",
       "      <td>0.0</td>\n",
       "    </tr>\n",
       "    <tr>\n",
       "      <th>ztemel</th>\n",
       "      <td>0.0</td>\n",
       "      <td>0.0</td>\n",
       "      <td>0.0</td>\n",
       "      <td>0.0</td>\n",
       "      <td>0.0</td>\n",
       "      <td>0.0</td>\n",
       "      <td>0.0</td>\n",
       "      <td>0.0</td>\n",
       "      <td>0.0</td>\n",
       "      <td>0.0</td>\n",
       "      <td>...</td>\n",
       "      <td>0.0</td>\n",
       "      <td>0.0</td>\n",
       "      <td>0.0</td>\n",
       "      <td>0.0</td>\n",
       "      <td>0.0</td>\n",
       "      <td>0.0</td>\n",
       "      <td>0.0</td>\n",
       "      <td>0.0</td>\n",
       "      <td>0.0</td>\n",
       "      <td>0.0</td>\n",
       "    </tr>\n",
       "    <tr>\n",
       "      <th>zucol</th>\n",
       "      <td>0.0</td>\n",
       "      <td>0.0</td>\n",
       "      <td>0.0</td>\n",
       "      <td>0.0</td>\n",
       "      <td>0.0</td>\n",
       "      <td>0.0</td>\n",
       "      <td>0.0</td>\n",
       "      <td>0.0</td>\n",
       "      <td>0.0</td>\n",
       "      <td>0.0</td>\n",
       "      <td>...</td>\n",
       "      <td>0.0</td>\n",
       "      <td>0.0</td>\n",
       "      <td>0.0</td>\n",
       "      <td>0.0</td>\n",
       "      <td>0.0</td>\n",
       "      <td>0.0</td>\n",
       "      <td>0.0</td>\n",
       "      <td>0.0</td>\n",
       "      <td>0.0</td>\n",
       "      <td>0.0</td>\n",
       "    </tr>\n",
       "    <tr>\n",
       "      <th>zufa</th>\n",
       "      <td>0.0</td>\n",
       "      <td>0.0</td>\n",
       "      <td>0.0</td>\n",
       "      <td>0.0</td>\n",
       "      <td>0.0</td>\n",
       "      <td>0.0</td>\n",
       "      <td>0.0</td>\n",
       "      <td>0.0</td>\n",
       "      <td>0.0</td>\n",
       "      <td>0.0</td>\n",
       "      <td>...</td>\n",
       "      <td>0.0</td>\n",
       "      <td>0.0</td>\n",
       "      <td>0.0</td>\n",
       "      <td>0.0</td>\n",
       "      <td>0.0</td>\n",
       "      <td>0.0</td>\n",
       "      <td>0.0</td>\n",
       "      <td>0.0</td>\n",
       "      <td>0.0</td>\n",
       "      <td>0.0</td>\n",
       "    </tr>\n",
       "    <tr>\n",
       "      <th>zupan</th>\n",
       "      <td>0.0</td>\n",
       "      <td>0.0</td>\n",
       "      <td>0.0</td>\n",
       "      <td>0.0</td>\n",
       "      <td>0.0</td>\n",
       "      <td>0.0</td>\n",
       "      <td>0.0</td>\n",
       "      <td>0.0</td>\n",
       "      <td>0.0</td>\n",
       "      <td>0.0</td>\n",
       "      <td>...</td>\n",
       "      <td>0.0</td>\n",
       "      <td>0.0</td>\n",
       "      <td>0.0</td>\n",
       "      <td>0.0</td>\n",
       "      <td>0.0</td>\n",
       "      <td>0.0</td>\n",
       "      <td>0.0</td>\n",
       "      <td>0.0</td>\n",
       "      <td>0.0</td>\n",
       "      <td>0.0</td>\n",
       "    </tr>\n",
       "    <tr>\n",
       "      <th>zur</th>\n",
       "      <td>0.0</td>\n",
       "      <td>0.0</td>\n",
       "      <td>0.0</td>\n",
       "      <td>0.0</td>\n",
       "      <td>0.0</td>\n",
       "      <td>0.0</td>\n",
       "      <td>0.0</td>\n",
       "      <td>0.0</td>\n",
       "      <td>0.0</td>\n",
       "      <td>0.0</td>\n",
       "      <td>...</td>\n",
       "      <td>0.0</td>\n",
       "      <td>0.0</td>\n",
       "      <td>0.0</td>\n",
       "      <td>0.0</td>\n",
       "      <td>0.0</td>\n",
       "      <td>0.0</td>\n",
       "      <td>0.0</td>\n",
       "      <td>0.0</td>\n",
       "      <td>0.0</td>\n",
       "      <td>0.0</td>\n",
       "    </tr>\n",
       "    <tr>\n",
       "      <th>zwischen</th>\n",
       "      <td>0.0</td>\n",
       "      <td>0.0</td>\n",
       "      <td>0.0</td>\n",
       "      <td>0.0</td>\n",
       "      <td>0.0</td>\n",
       "      <td>0.0</td>\n",
       "      <td>0.0</td>\n",
       "      <td>0.0</td>\n",
       "      <td>0.0</td>\n",
       "      <td>0.0</td>\n",
       "      <td>...</td>\n",
       "      <td>0.0</td>\n",
       "      <td>0.0</td>\n",
       "      <td>0.0</td>\n",
       "      <td>0.0</td>\n",
       "      <td>0.0</td>\n",
       "      <td>0.0</td>\n",
       "      <td>0.0</td>\n",
       "      <td>0.0</td>\n",
       "      <td>0.0</td>\n",
       "      <td>0.0</td>\n",
       "    </tr>\n",
       "  </tbody>\n",
       "</table>\n",
       "<p>10 rows × 255 columns</p>\n",
       "</div>"
      ],
      "text/plain": [
       "title     (1+ε)-approximate nearest neighbor search  Calibration (statistics)  \\\n",
       "zoom                                            0.0                       0.0   \n",
       "zquez                                           0.0                       0.0   \n",
       "zs                                              0.0                       0.0   \n",
       "zsa                                             0.0                       0.0   \n",
       "ztemel                                          0.0                       0.0   \n",
       "zucol                                           0.0                       0.0   \n",
       "zufa                                            0.0                       0.0   \n",
       "zupan                                           0.0                       0.0   \n",
       "zur                                             0.0                       0.0   \n",
       "zwischen                                        0.0                       0.0   \n",
       "\n",
       "title     Soft independent modelling of class analogies  \\\n",
       "zoom                                                0.0   \n",
       "zquez                                               0.0   \n",
       "zs                                                  0.0   \n",
       "zsa                                                 0.0   \n",
       "ztemel                                              0.0   \n",
       "zucol                                               0.0   \n",
       "zufa                                                0.0   \n",
       "zupan                                               0.0   \n",
       "zur                                                 0.0   \n",
       "zwischen                                            0.0   \n",
       "\n",
       "title     Statistical classification  Variable kernel density estimation  \\\n",
       "zoom                             0.0                                 0.0   \n",
       "zquez                            0.0                                 0.0   \n",
       "zs                               0.0                                 0.0   \n",
       "zsa                              0.0                                 0.0   \n",
       "ztemel                           0.0                                 0.0   \n",
       "zucol                            0.0                                 0.0   \n",
       "zufa                             0.0                                 0.0   \n",
       "zupan                            0.0                                 0.0   \n",
       "zur                              0.0                                 0.0   \n",
       "zwischen                         0.0                                 0.0   \n",
       "\n",
       "title     AdaBoost  ALOPEX  Alternating decision tree  Analogical modeling  \\\n",
       "zoom           0.0     0.0                        0.0                  0.0   \n",
       "zquez          0.0     0.0                        0.0                  0.0   \n",
       "zs             0.0     0.0                        0.0                  0.0   \n",
       "zsa            0.0     0.0                        0.0                  0.0   \n",
       "ztemel         0.0     0.0                        0.0                  0.0   \n",
       "zucol          0.0     0.0                        0.0                  0.0   \n",
       "zufa           0.0     0.0                        0.0                  0.0   \n",
       "zupan          0.0     0.0                        0.0                  0.0   \n",
       "zur            0.0     0.0                        0.0                  0.0   \n",
       "zwischen       0.0     0.0                        0.0                  0.0   \n",
       "\n",
       "title     Averaged one-dependence estimators        ...         \\\n",
       "zoom                                     0.0        ...          \n",
       "zquez                                    0.0        ...          \n",
       "zs                                       0.0        ...          \n",
       "zsa                                      0.0        ...          \n",
       "ztemel                                   0.0        ...          \n",
       "zucol                                    0.0        ...          \n",
       "zufa                                     0.0        ...          \n",
       "zupan                                    0.0        ...          \n",
       "zur                                      0.0        ...          \n",
       "zwischen                                 0.0        ...          \n",
       "\n",
       "title     Neuro Laboratory  Neuroph  NeuroSolutions  OCRopus  \\\n",
       "zoom                   0.0      0.0             0.0      0.0   \n",
       "zquez                  0.0      0.0             0.0      0.0   \n",
       "zs                     0.0      0.0             0.0      0.0   \n",
       "zsa                    0.0      0.0             0.0      0.0   \n",
       "ztemel                 0.0      0.0             0.0      0.0   \n",
       "zucol                  0.0      0.0             0.0      0.0   \n",
       "zufa                   0.0      0.0             0.0      0.0   \n",
       "zupan                  0.0      0.0             0.0      0.0   \n",
       "zur                    0.0      0.0             0.0      0.0   \n",
       "zwischen               0.0      0.0             0.0      0.0   \n",
       "\n",
       "title     Peltarion Synapse  Picas (app)  Prisma (app)  PSIPRED  SNNS  \\\n",
       "zoom                    0.0          0.0           0.0      0.0   0.0   \n",
       "zquez                   0.0          0.0           0.0      0.0   0.0   \n",
       "zs                      0.0          0.0           0.0      0.0   0.0   \n",
       "zsa                     0.0          0.0           0.0      0.0   0.0   \n",
       "ztemel                  0.0          0.0           0.0      0.0   0.0   \n",
       "zucol                   0.0          0.0           0.0      0.0   0.0   \n",
       "zufa                    0.0          0.0           0.0      0.0   0.0   \n",
       "zupan                   0.0          0.0           0.0      0.0   0.0   \n",
       "zur                     0.0          0.0           0.0      0.0   0.0   \n",
       "zwischen                0.0          0.0           0.0      0.0   0.0   \n",
       "\n",
       "title     Wolfram Language  \n",
       "zoom                   0.0  \n",
       "zquez                  0.0  \n",
       "zs                     0.0  \n",
       "zsa                    0.0  \n",
       "ztemel                 0.0  \n",
       "zucol                  0.0  \n",
       "zufa                   0.0  \n",
       "zupan                  0.0  \n",
       "zur                    0.0  \n",
       "zwischen               0.0  \n",
       "\n",
       "[10 rows x 255 columns]"
      ]
     },
     "execution_count": 22,
     "metadata": {},
     "output_type": "execute_result"
    }
   ],
   "source": [
    "dtm_df.T.tail(10)"
   ]
  },
  {
   "cell_type": "code",
   "execution_count": 23,
   "metadata": {},
   "outputs": [
    {
     "data": {
      "text/plain": [
       "(255, 9409)"
      ]
     },
     "execution_count": 23,
     "metadata": {},
     "output_type": "execute_result"
    }
   ],
   "source": [
    "dtm_df.shape"
   ]
  },
  {
   "cell_type": "markdown",
   "metadata": {},
   "source": [
    "### Compute SVD matrix"
   ]
  },
  {
   "cell_type": "code",
   "execution_count": 24,
   "metadata": {},
   "outputs": [],
   "source": [
    "n_components = 200\n",
    "svd_v = TruncatedSVD(n_components)\n",
    "component_names = [\"component_\"+str(i+1) for i in range(n_components)]"
   ]
  },
  {
   "cell_type": "code",
   "execution_count": 25,
   "metadata": {},
   "outputs": [
    {
     "name": "stdout",
     "output_type": "stream",
     "text": [
      "CPU times: user 990 ms, sys: 940 ms, total: 1.93 s\n",
      "Wall time: 546 ms\n"
     ]
    }
   ],
   "source": [
    "%%time\n",
    "svdm = svd_v.fit_transform(dtm_df)"
   ]
  },
  {
   "cell_type": "code",
   "execution_count": 26,
   "metadata": {},
   "outputs": [
    {
     "data": {
      "text/plain": [
       "0.91197912159119954"
      ]
     },
     "execution_count": 26,
     "metadata": {},
     "output_type": "execute_result"
    }
   ],
   "source": [
    "sum(svd_v.explained_variance_ratio_)"
   ]
  },
  {
   "cell_type": "code",
   "execution_count": 27,
   "metadata": {},
   "outputs": [
    {
     "data": {
      "text/plain": [
       "<Container object of 200 artists>"
      ]
     },
     "execution_count": 27,
     "metadata": {},
     "output_type": "execute_result"
    },
    {
     "data": {
      "image/png": "[encoded data removed]",
      "text/plain": [
       "<matplotlib.figure.Figure at 0x7fa5e73dd1d0>"
      ]
     },
     "metadata": {},
     "output_type": "display_data"
    }
   ],
   "source": [
    "plt.bar(range(n_components), svd_v.explained_variance_ratio_)"
   ]
  },
  {
   "cell_type": "code",
   "execution_count": 28,
   "metadata": {},
   "outputs": [],
   "source": [
    "lsa = pd.DataFrame(svdm,index=dtm_df.index,columns=component_names)\n",
    "lsa['extract'] = corpus_df.extract\n",
    "lsa['pageid'] = corpus_df.pageid"
   ]
  },
  {
   "cell_type": "code",
   "execution_count": 29,
   "metadata": {},
   "outputs": [
    {
     "data": {
      "text/html": [
       "<div>\n",
       "<table border=\"1\" class=\"dataframe\">\n",
       "  <thead>\n",
       "    <tr style=\"text-align: right;\">\n",
       "      <th></th>\n",
       "      <th>component_1</th>\n",
       "      <th>component_2</th>\n",
       "      <th>component_3</th>\n",
       "      <th>component_4</th>\n",
       "      <th>component_5</th>\n",
       "      <th>component_6</th>\n",
       "      <th>component_7</th>\n",
       "      <th>component_8</th>\n",
       "      <th>component_9</th>\n",
       "      <th>component_10</th>\n",
       "      <th>...</th>\n",
       "      <th>component_193</th>\n",
       "      <th>component_194</th>\n",
       "      <th>component_195</th>\n",
       "      <th>component_196</th>\n",
       "      <th>component_197</th>\n",
       "      <th>component_198</th>\n",
       "      <th>component_199</th>\n",
       "      <th>component_200</th>\n",
       "      <th>extract</th>\n",
       "      <th>pageid</th>\n",
       "    </tr>\n",
       "    <tr>\n",
       "      <th>title</th>\n",
       "      <th></th>\n",
       "      <th></th>\n",
       "      <th></th>\n",
       "      <th></th>\n",
       "      <th></th>\n",
       "      <th></th>\n",
       "      <th></th>\n",
       "      <th></th>\n",
       "      <th></th>\n",
       "      <th></th>\n",
       "      <th></th>\n",
       "      <th></th>\n",
       "      <th></th>\n",
       "      <th></th>\n",
       "      <th></th>\n",
       "      <th></th>\n",
       "      <th></th>\n",
       "      <th></th>\n",
       "      <th></th>\n",
       "      <th></th>\n",
       "      <th></th>\n",
       "    </tr>\n",
       "  </thead>\n",
       "  <tbody>\n",
       "    <tr>\n",
       "      <th>(1+ε)-approximate nearest neighbor search</th>\n",
       "      <td>0.105344</td>\n",
       "      <td>0.141604</td>\n",
       "      <td>-0.052743</td>\n",
       "      <td>-0.056402</td>\n",
       "      <td>-0.208383</td>\n",
       "      <td>-0.163134</td>\n",
       "      <td>0.312477</td>\n",
       "      <td>0.315980</td>\n",
       "      <td>-0.155686</td>\n",
       "      <td>0.406264</td>\n",
       "      <td>...</td>\n",
       "      <td>-0.012491</td>\n",
       "      <td>0.113033</td>\n",
       "      <td>0.061653</td>\n",
       "      <td>-0.056466</td>\n",
       "      <td>-0.009342</td>\n",
       "      <td>0.016228</td>\n",
       "      <td>0.027362</td>\n",
       "      <td>-0.003644</td>\n",
       "      <td>approximate near neighbor search special case ...</td>\n",
       "      <td>32003319</td>\n",
       "    </tr>\n",
       "    <tr>\n",
       "      <th>Calibration (statistics)</th>\n",
       "      <td>0.178920</td>\n",
       "      <td>0.160914</td>\n",
       "      <td>-0.024841</td>\n",
       "      <td>-0.089675</td>\n",
       "      <td>-0.062449</td>\n",
       "      <td>-0.118057</td>\n",
       "      <td>-0.061072</td>\n",
       "      <td>-0.169123</td>\n",
       "      <td>0.000324</td>\n",
       "      <td>-0.043886</td>\n",
       "      <td>...</td>\n",
       "      <td>-0.055681</td>\n",
       "      <td>0.024109</td>\n",
       "      <td>0.011486</td>\n",
       "      <td>0.032548</td>\n",
       "      <td>-0.030170</td>\n",
       "      <td>-0.002444</td>\n",
       "      <td>-0.034641</td>\n",
       "      <td>0.014981</td>\n",
       "      <td>two main use term calibration statistic denote...</td>\n",
       "      <td>740955</td>\n",
       "    </tr>\n",
       "    <tr>\n",
       "      <th>Soft independent modelling of class analogies</th>\n",
       "      <td>0.223250</td>\n",
       "      <td>0.194821</td>\n",
       "      <td>-0.042294</td>\n",
       "      <td>-0.131805</td>\n",
       "      <td>-0.140503</td>\n",
       "      <td>-0.091542</td>\n",
       "      <td>0.036746</td>\n",
       "      <td>-0.126910</td>\n",
       "      <td>0.007179</td>\n",
       "      <td>-0.026745</td>\n",
       "      <td>...</td>\n",
       "      <td>-0.032190</td>\n",
       "      <td>-0.016467</td>\n",
       "      <td>0.009325</td>\n",
       "      <td>0.009909</td>\n",
       "      <td>-0.037312</td>\n",
       "      <td>0.026290</td>\n",
       "      <td>0.011859</td>\n",
       "      <td>0.011474</td>\n",
       "      <td>soft independent model class analogy simca sta...</td>\n",
       "      <td>843901</td>\n",
       "    </tr>\n",
       "  </tbody>\n",
       "</table>\n",
       "<p>3 rows × 202 columns</p>\n",
       "</div>"
      ],
      "text/plain": [
       "                                               component_1  component_2  \\\n",
       "title                                                                     \n",
       "(1+ε)-approximate nearest neighbor search         0.105344     0.141604   \n",
       "Calibration (statistics)                          0.178920     0.160914   \n",
       "Soft independent modelling of class analogies     0.223250     0.194821   \n",
       "\n",
       "                                               component_3  component_4  \\\n",
       "title                                                                     \n",
       "(1+ε)-approximate nearest neighbor search        -0.052743    -0.056402   \n",
       "Calibration (statistics)                         -0.024841    -0.089675   \n",
       "Soft independent modelling of class analogies    -0.042294    -0.131805   \n",
       "\n",
       "                                               component_5  component_6  \\\n",
       "title                                                                     \n",
       "(1+ε)-approximate nearest neighbor search        -0.208383    -0.163134   \n",
       "Calibration (statistics)                         -0.062449    -0.118057   \n",
       "Soft independent modelling of class analogies    -0.140503    -0.091542   \n",
       "\n",
       "                                               component_7  component_8  \\\n",
       "title                                                                     \n",
       "(1+ε)-approximate nearest neighbor search         0.312477     0.315980   \n",
       "Calibration (statistics)                         -0.061072    -0.169123   \n",
       "Soft independent modelling of class analogies     0.036746    -0.126910   \n",
       "\n",
       "                                               component_9  component_10  \\\n",
       "title                                                                      \n",
       "(1+ε)-approximate nearest neighbor search        -0.155686      0.406264   \n",
       "Calibration (statistics)                          0.000324     -0.043886   \n",
       "Soft independent modelling of class analogies     0.007179     -0.026745   \n",
       "\n",
       "                                                 ...     component_193  \\\n",
       "title                                            ...                     \n",
       "(1+ε)-approximate nearest neighbor search        ...         -0.012491   \n",
       "Calibration (statistics)                         ...         -0.055681   \n",
       "Soft independent modelling of class analogies    ...         -0.032190   \n",
       "\n",
       "                                               component_194  component_195  \\\n",
       "title                                                                         \n",
       "(1+ε)-approximate nearest neighbor search           0.113033       0.061653   \n",
       "Calibration (statistics)                            0.024109       0.011486   \n",
       "Soft independent modelling of class analogies      -0.016467       0.009325   \n",
       "\n",
       "                                               component_196  component_197  \\\n",
       "title                                                                         \n",
       "(1+ε)-approximate nearest neighbor search          -0.056466      -0.009342   \n",
       "Calibration (statistics)                            0.032548      -0.030170   \n",
       "Soft independent modelling of class analogies       0.009909      -0.037312   \n",
       "\n",
       "                                               component_198  component_199  \\\n",
       "title                                                                         \n",
       "(1+ε)-approximate nearest neighbor search           0.016228       0.027362   \n",
       "Calibration (statistics)                           -0.002444      -0.034641   \n",
       "Soft independent modelling of class analogies       0.026290       0.011859   \n",
       "\n",
       "                                               component_200  \\\n",
       "title                                                          \n",
       "(1+ε)-approximate nearest neighbor search          -0.003644   \n",
       "Calibration (statistics)                            0.014981   \n",
       "Soft independent modelling of class analogies       0.011474   \n",
       "\n",
       "                                                                                         extract  \\\n",
       "title                                                                                              \n",
       "(1+ε)-approximate nearest neighbor search      approximate near neighbor search special case ...   \n",
       "Calibration (statistics)                       two main use term calibration statistic denote...   \n",
       "Soft independent modelling of class analogies  soft independent model class analogy simca sta...   \n",
       "\n",
       "                                                 pageid  \n",
       "title                                                    \n",
       "(1+ε)-approximate nearest neighbor search      32003319  \n",
       "Calibration (statistics)                         740955  \n",
       "Soft independent modelling of class analogies    843901  \n",
       "\n",
       "[3 rows x 202 columns]"
      ]
     },
     "execution_count": 29,
     "metadata": {},
     "output_type": "execute_result"
    }
   ],
   "source": [
    "lsa.head(3)"
   ]
  },
  {
   "cell_type": "code",
   "execution_count": 30,
   "metadata": {},
   "outputs": [
    {
     "name": "stdout",
     "output_type": "stream",
     "text": [
      "<class 'pandas.core.frame.DataFrame'>\n",
      "Index: 255 entries, (1+ε)-approximate nearest neighbor search to Wolfram Language\n",
      "Columns: 202 entries, component_1 to pageid\n",
      "dtypes: float64(200), int64(1), object(1)\n",
      "memory usage: 404.4+ KB\n"
     ]
    }
   ],
   "source": [
    "lsa.info()"
   ]
  },
  {
   "cell_type": "code",
   "execution_count": 31,
   "metadata": {},
   "outputs": [],
   "source": [
    "comp_features = pd.DataFrame(svd_v.components_,index=component_names,columns=tfidf_v.get_feature_names()).T"
   ]
  },
  {
   "cell_type": "markdown",
   "metadata": {},
   "source": [
    "### Look at feature breakdown of components\n",
    "Lots of numbers, and symbols - need to remove"
   ]
  },
  {
   "cell_type": "code",
   "execution_count": 32,
   "metadata": {},
   "outputs": [],
   "source": [
    "# Feature breakdown of componentes\n",
    "top_20={}\n",
    "for i in range(1,20):\n",
    "    comp_features['abs_component_{}'.format(i)] = np.abs(comp_features['component_{}'.format(i)])"
   ]
  },
  {
   "cell_type": "code",
   "execution_count": 44,
   "metadata": {},
   "outputs": [
    {
     "data": {
      "text/plain": [
       "network     0.321700\n",
       "neural      0.218354\n",
       "function    0.184732\n",
       "learn       0.171700\n",
       "use         0.169077\n",
       "model       0.167996\n",
       "neuron      0.157820\n",
       "layer       0.151114\n",
       "train       0.150770\n",
       "weight      0.142871\n",
       "Name: abs_component_1, dtype: float64"
      ]
     },
     "execution_count": 44,
     "metadata": {},
     "output_type": "execute_result"
    }
   ],
   "source": [
    "comp_features['abs_component_1'].sort_values(ascending=False).head(10)"
   ]
  },
  {
   "cell_type": "markdown",
   "metadata": {},
   "source": [
    "## Search process\n",
    "\n",
    "1. input search term and vectorize using fitted TFIDF\n",
    "2. Append search term to the DTM -> augmented DTM\n",
    "3. SVD fit & transform on augemented DTM - > updated components\n",
    "4. identify index for search term vector in svd matrix\n",
    "5. Use cosine similarity to find most similar vectors in svd matrix"
   ]
  },
  {
   "cell_type": "code",
   "execution_count": 47,
   "metadata": {},
   "outputs": [],
   "source": [
    "search_term='logistic regression'"
   ]
  },
  {
   "cell_type": "code",
   "execution_count": 48,
   "metadata": {},
   "outputs": [],
   "source": [
    "s_term=[search_term]\n",
    "\n",
    "#vectorize search term with TFIDF vectorizer (previously fitted)\n",
    "s_term_encoded=tfidf_v.transform(s_term)\n",
    "s_term_encoded_df = pd.DataFrame(s_term_encoded.toarray(), \n",
    "                                   index=['search_term'], \n",
    "                                   columns=tfidf_v.get_feature_names())"
   ]
  },
  {
   "cell_type": "code",
   "execution_count": 49,
   "metadata": {},
   "outputs": [
    {
     "data": {
      "text/html": [
       "<div>\n",
       "<table border=\"1\" class=\"dataframe\">\n",
       "  <thead>\n",
       "    <tr style=\"text-align: right;\">\n",
       "      <th></th>\n",
       "      <th>aaai</th>\n",
       "      <th>aalto</th>\n",
       "      <th>aamodt</th>\n",
       "      <th>ab</th>\n",
       "      <th>abandon</th>\n",
       "      <th>abbreviate</th>\n",
       "      <th>abbreviation</th>\n",
       "      <th>abdoman</th>\n",
       "      <th>abductive</th>\n",
       "      <th>abello</th>\n",
       "      <th>...</th>\n",
       "      <th>zoom</th>\n",
       "      <th>zquez</th>\n",
       "      <th>zs</th>\n",
       "      <th>zsa</th>\n",
       "      <th>ztemel</th>\n",
       "      <th>zucol</th>\n",
       "      <th>zufa</th>\n",
       "      <th>zupan</th>\n",
       "      <th>zur</th>\n",
       "      <th>zwischen</th>\n",
       "    </tr>\n",
       "  </thead>\n",
       "  <tbody>\n",
       "    <tr>\n",
       "      <th>search_term</th>\n",
       "      <td>0.0</td>\n",
       "      <td>0.0</td>\n",
       "      <td>0.0</td>\n",
       "      <td>0.0</td>\n",
       "      <td>0.0</td>\n",
       "      <td>0.0</td>\n",
       "      <td>0.0</td>\n",
       "      <td>0.0</td>\n",
       "      <td>0.0</td>\n",
       "      <td>0.0</td>\n",
       "      <td>...</td>\n",
       "      <td>0.0</td>\n",
       "      <td>0.0</td>\n",
       "      <td>0.0</td>\n",
       "      <td>0.0</td>\n",
       "      <td>0.0</td>\n",
       "      <td>0.0</td>\n",
       "      <td>0.0</td>\n",
       "      <td>0.0</td>\n",
       "      <td>0.0</td>\n",
       "      <td>0.0</td>\n",
       "    </tr>\n",
       "  </tbody>\n",
       "</table>\n",
       "<p>1 rows × 9409 columns</p>\n",
       "</div>"
      ],
      "text/plain": [
       "             aaai  aalto  aamodt   ab  abandon  abbreviate  abbreviation  \\\n",
       "search_term   0.0    0.0     0.0  0.0      0.0         0.0           0.0   \n",
       "\n",
       "             abdoman  abductive  abello    ...     zoom  zquez   zs  zsa  \\\n",
       "search_term      0.0        0.0     0.0    ...      0.0    0.0  0.0  0.0   \n",
       "\n",
       "             ztemel  zucol  zufa  zupan  zur  zwischen  \n",
       "search_term     0.0    0.0   0.0    0.0  0.0       0.0  \n",
       "\n",
       "[1 rows x 9409 columns]"
      ]
     },
     "execution_count": 49,
     "metadata": {},
     "output_type": "execute_result"
    }
   ],
   "source": [
    "s_term_encoded_df"
   ]
  },
  {
   "cell_type": "code",
   "execution_count": 50,
   "metadata": {},
   "outputs": [],
   "source": [
    "dtma_df=()"
   ]
  },
  {
   "cell_type": "code",
   "execution_count": 51,
   "metadata": {},
   "outputs": [
    {
     "name": "stdout",
     "output_type": "stream",
     "text": [
      "CPU times: user 10 ms, sys: 0 ns, total: 10 ms\n",
      "Wall time: 4.38 ms\n"
     ]
    }
   ],
   "source": [
    "%%time\n",
    "#add to existing document term matrix\n",
    "dtma_df=dtm_df.append(s_term_encoded_df)"
   ]
  },
  {
   "cell_type": "code",
   "execution_count": 52,
   "metadata": {},
   "outputs": [
    {
     "data": {
      "text/plain": [
       "(256, 9409)"
      ]
     },
     "execution_count": 52,
     "metadata": {},
     "output_type": "execute_result"
    }
   ],
   "source": [
    "dtma_df.shape"
   ]
  },
  {
   "cell_type": "code",
   "execution_count": 53,
   "metadata": {},
   "outputs": [
    {
     "name": "stdout",
     "output_type": "stream",
     "text": [
      "CPU times: user 1.22 s, sys: 1.12 s, total: 2.34 s\n",
      "Wall time: 592 ms\n"
     ]
    }
   ],
   "source": [
    "%%time\n",
    "#re fit SVD to augmented document term matrix\n",
    "component_names = [\"component_\"+str(i+1) for i in range(svd_v.n_components)]\n",
    "svdma=svd_v.fit_transform(dtma_df)\n",
    "svdma_df=pd.DataFrame(svdma,index=dtma_df.index,columns=component_names)"
   ]
  },
  {
   "cell_type": "code",
   "execution_count": 54,
   "metadata": {},
   "outputs": [],
   "source": [
    "#find index of search term in refit SVD matrix\n",
    "s_term_svd_vector=svdma_df.loc['search_term',:].values.reshape(1,-1)"
   ]
  },
  {
   "cell_type": "code",
   "execution_count": 55,
   "metadata": {},
   "outputs": [],
   "source": [
    "#calculate cosine similarty of search term against other SVD vectors\n",
    "svdma_df['cosine_sim'] = cosine_similarity(svdma_df, s_term_svd_vector)"
   ]
  },
  {
   "cell_type": "code",
   "execution_count": 56,
   "metadata": {},
   "outputs": [
    {
     "name": "stdout",
     "output_type": "stream",
     "text": [
      "top 10 wiki pages that are related to search term = ['logistic regression']\n"
     ]
    },
    {
     "data": {
      "text/html": [
       "<div>\n",
       "<table border=\"1\" class=\"dataframe\">\n",
       "  <thead>\n",
       "    <tr style=\"text-align: right;\">\n",
       "      <th></th>\n",
       "      <th>cosine_sim</th>\n",
       "    </tr>\n",
       "  </thead>\n",
       "  <tbody>\n",
       "    <tr>\n",
       "      <th>search_term</th>\n",
       "      <td>1.000000</td>\n",
       "    </tr>\n",
       "    <tr>\n",
       "      <th>Logistic model tree</th>\n",
       "      <td>0.424527</td>\n",
       "    </tr>\n",
       "    <tr>\n",
       "      <th>Multinomial logistic regression</th>\n",
       "      <td>0.384367</td>\n",
       "    </tr>\n",
       "    <tr>\n",
       "      <th>Sigmoid function</th>\n",
       "      <td>0.356528</td>\n",
       "    </tr>\n",
       "    <tr>\n",
       "      <th>LogitBoost</th>\n",
       "      <td>0.261227</td>\n",
       "    </tr>\n",
       "    <tr>\n",
       "      <th>Softmax function</th>\n",
       "      <td>0.213660</td>\n",
       "    </tr>\n",
       "    <tr>\n",
       "      <th>Statistical classification</th>\n",
       "      <td>0.135483</td>\n",
       "    </tr>\n",
       "    <tr>\n",
       "      <th>Optimal discriminant analysis</th>\n",
       "      <td>0.129338</td>\n",
       "    </tr>\n",
       "    <tr>\n",
       "      <th>Calibration (statistics)</th>\n",
       "      <td>0.126334</td>\n",
       "    </tr>\n",
       "    <tr>\n",
       "      <th>General regression neural network</th>\n",
       "      <td>0.115813</td>\n",
       "    </tr>\n",
       "  </tbody>\n",
       "</table>\n",
       "</div>"
      ],
      "text/plain": [
       "                                   cosine_sim\n",
       "search_term                          1.000000\n",
       "Logistic model tree                  0.424527\n",
       "Multinomial logistic regression      0.384367\n",
       "Sigmoid function                     0.356528\n",
       "LogitBoost                           0.261227\n",
       "Softmax function                     0.213660\n",
       "Statistical classification           0.135483\n",
       "Optimal discriminant analysis        0.129338\n",
       "Calibration (statistics)             0.126334\n",
       "General regression neural network    0.115813"
      ]
     },
     "execution_count": 56,
     "metadata": {},
     "output_type": "execute_result"
    }
   ],
   "source": [
    "print('top 10 wiki pages that are related to search term = {}'.format(s_term))\n",
    "svdma_df[['cosine_sim']].sort_values('cosine_sim', ascending=False).head(10)\n",
    "    "
   ]
  },
  {
   "cell_type": "markdown",
   "metadata": {},
   "source": [
    "# Assessing search results"
   ]
  },
  {
   "cell_type": "markdown",
   "metadata": {},
   "source": [
    "Search engine results were measured against the top google search results from the en.wikipedia site.\n",
    "In google search...\n",
    " -  ' site:en.wikipedia.org SEARCHTERM '\n",
    " \n",
    "Tfidif version 3 gave the most comparable search with an average of 3 of the top 9 google results appearing in the search engine results.\n",
    "\n",
    "version 3 : tfidf_v = TfidfVectorizer(stop_words = 'english', min_df=1  )\n",
    "\n",
    "These parameters where use in the final model build.\n",
    "\n",
    "\n",
    "This was a good performance given the google search was over the entire en.wikipedia content. Many of the items not picked up where not included in the MongoDB content.\n",
    "\n",
    "The full results are in provided in the excel workbook ' search-engine-tests.xlsx'"
   ]
  },
  {
   "cell_type": "code",
   "execution_count": null,
   "metadata": {},
   "outputs": [],
   "source": []
  }
 ],
 "metadata": {
  "kernelspec": {
   "display_name": "Python 3",
   "language": "python",
   "name": "python3"
  },
  "language_info": {
   "codemirror_mode": {
    "name": "ipython",
    "version": 3
   },
   "file_extension": ".py",
   "mimetype": "text/x-python",
   "name": "python",
   "nbconvert_exporter": "python",
   "pygments_lexer": "ipython3",
   "version": "3.6.3"
  }
 },
 "nbformat": 4,
 "nbformat_minor": 2
}
